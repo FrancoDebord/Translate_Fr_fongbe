{
  "nbformat": 4,
  "nbformat_minor": 0,
  "metadata": {
    "kernelspec": {
      "name": "python3",
      "display_name": "Python 3"
    },
    "language_info": {
      "codemirror_mode": {
        "name": "ipython",
        "version": 3
      },
      "file_extension": ".py",
      "mimetype": "text/x-python",
      "name": "python",
      "nbconvert_exporter": "python",
      "pygments_lexer": "ipython3",
      "version": "3.7.4"
    },
    "colab": {
      "name": "WordLevelEngMarNMT.ipynb",
      "provenance": [],
      "toc_visible": true
    },
    "accelerator": "GPU"
  },
  "cells": [
    {
      "cell_type": "markdown",
      "metadata": {
        "id": "8fCt-ZhlLXam",
        "colab_type": "text"
      },
      "source": [
        "### Datasets\n",
        "http://www.manythings.org/anki/  (Download and unzip mar-eng.zip file)"
      ]
    },
    {
      "cell_type": "code",
      "metadata": {
        "id": "rGsvp2vQMINx",
        "colab_type": "code",
        "colab": {
          "resources": {
            "http://localhost:8080/nbextensions/google.colab/files.js": {
              "data": "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",
              "ok": true,
              "headers": [
                [
                  "content-type",
                  "application/javascript"
                ]
              ],
              "status": 200,
              "status_text": ""
            }
          },
          "base_uri": "https://localhost:8080/",
          "height": 74
        },
        "outputId": "eb1bdd8e-00a6-4bd3-bce3-2af7f4f1b0df"
      },
      "source": [
        "from google.colab import files\n",
        "import io\n",
        "\n",
        "uploaded = files.upload()\n"
      ],
      "execution_count": 1,
      "outputs": [
        {
          "output_type": "display_data",
          "data": {
            "text/html": [
              "\n",
              "     <input type=\"file\" id=\"files-e9afa550-eeb8-44df-9d97-3a6eb56991fd\" name=\"files[]\" multiple disabled />\n",
              "     <output id=\"result-e9afa550-eeb8-44df-9d97-3a6eb56991fd\">\n",
              "      Upload widget is only available when the cell has been executed in the\n",
              "      current browser session. Please rerun this cell to enable.\n",
              "      </output>\n",
              "      <script src=\"/nbextensions/google.colab/files.js\"></script> "
            ],
            "text/plain": [
              "<IPython.core.display.HTML object>"
            ]
          },
          "metadata": {
            "tags": []
          }
        },
        {
          "output_type": "stream",
          "text": [
            "Saving francais_fongbe_revu_sans_doublons2.txt to francais_fongbe_revu_sans_doublons2.txt\n"
          ],
          "name": "stdout"
        }
      ]
    },
    {
      "cell_type": "code",
      "metadata": {
        "id": "44yHuIJcLXar",
        "colab_type": "code",
        "colab": {}
      },
      "source": [
        "import pandas as pd\n",
        "import numpy as np\n",
        "import string\n",
        "from string import digits\n",
        "import matplotlib.pyplot as plt\n",
        "%matplotlib inline\n",
        "import re\n",
        "from sklearn.utils import shuffle\n",
        "from sklearn.model_selection import train_test_split\n",
        "from keras.layers import Input, LSTM, Embedding, Dense\n",
        "from keras.models import Model\n",
        "import pickle\n",
        "import io\n",
        "\n",
        "#print(type (uploaded['francais_fongbe_revu_sans_doublons2.txt']))"
      ],
      "execution_count": 0,
      "outputs": []
    },
    {
      "cell_type": "code",
      "metadata": {
        "id": "jYnxNYikLXav",
        "colab_type": "code",
        "colab": {}
      },
      "source": [
        "\n",
        "lines = pd.read_csv(io.StringIO(uploaded[\"francais_fongbe_revu_sans_doublons2.txt\"].decode(\"utf-8\")), names=['eng', 'mar'], encoding=\"utf-8\", engine=\"python\", delimiter=\" : \")\n",
        "\n"
      ],
      "execution_count": 0,
      "outputs": []
    },
    {
      "cell_type": "code",
      "metadata": {
        "id": "ndOP1jurLXaz",
        "colab_type": "code",
        "colab": {}
      },
      "source": [
        "lines = lines[:35000];\n"
      ],
      "execution_count": 0,
      "outputs": []
    },
    {
      "cell_type": "code",
      "metadata": {
        "id": "0w-ubICWLXa2",
        "colab_type": "code",
        "colab": {
          "base_uri": "https://localhost:8080/",
          "height": 34
        },
        "outputId": "15adb767-0053-45f9-f103-c9ba110a210f"
      },
      "source": [
        "lines.shape"
      ],
      "execution_count": 12,
      "outputs": [
        {
          "output_type": "execute_result",
          "data": {
            "text/plain": [
              "(35000, 2)"
            ]
          },
          "metadata": {
            "tags": []
          },
          "execution_count": 12
        }
      ]
    },
    {
      "cell_type": "code",
      "metadata": {
        "id": "IT9eqGg-LXa9",
        "colab_type": "code",
        "colab": {}
      },
      "source": [
        "# Lowercase all characters\n",
        "lines.eng=lines.eng.apply(lambda x: x.lower())\n",
        "lines.mar=lines.mar.apply(lambda x: x.lower())"
      ],
      "execution_count": 0,
      "outputs": []
    },
    {
      "cell_type": "code",
      "metadata": {
        "id": "tWmyV9NMLXbA",
        "colab_type": "code",
        "colab": {}
      },
      "source": [
        "# Remove quotes\n",
        "lines.eng=lines.eng.apply(lambda x: re.sub(\"'\", '', x))\n",
        "lines.mar=lines.mar.apply(lambda x: re.sub(\"'\", '', x))"
      ],
      "execution_count": 0,
      "outputs": []
    },
    {
      "cell_type": "code",
      "metadata": {
        "id": "HXWVnslfLXbD",
        "colab_type": "code",
        "colab": {}
      },
      "source": [
        "exclude = set(string.punctuation) # Set of all special characters\n",
        "# Remove all the special characters\n",
        "lines.eng=lines.eng.apply(lambda x: ''.join(ch for ch in x if ch not in exclude))\n",
        "lines.mar=lines.mar.apply(lambda x: ''.join(ch for ch in x if ch not in exclude))"
      ],
      "execution_count": 0,
      "outputs": []
    },
    {
      "cell_type": "code",
      "metadata": {
        "id": "4A4w5c_bLXbG",
        "colab_type": "code",
        "colab": {}
      },
      "source": [
        "# Remove all numbers from text\n",
        "remove_digits = str.maketrans('', '', digits)\n",
        "lines.eng=lines.eng.apply(lambda x: x.translate(remove_digits))\n",
        "#lines.mar = lines.mar.apply(lambda x: re.sub(\"[२३०८१५७९४६]\", \"\", x))"
      ],
      "execution_count": 0,
      "outputs": []
    },
    {
      "cell_type": "code",
      "metadata": {
        "id": "w9I3BoCELXbM",
        "colab_type": "code",
        "colab": {}
      },
      "source": [
        "# Remove extra spaces\n",
        "lines.eng=lines.eng.apply(lambda x: x.strip())\n",
        "lines.mar=lines.mar.apply(lambda x: x.strip())\n",
        "lines.eng=lines.eng.apply(lambda x: re.sub(\" +\", \" \", x))\n",
        "lines.mar=lines.mar.apply(lambda x: re.sub(\" +\", \" \", x))"
      ],
      "execution_count": 0,
      "outputs": []
    },
    {
      "cell_type": "code",
      "metadata": {
        "id": "KvfbLaRzLXbQ",
        "colab_type": "code",
        "colab": {}
      },
      "source": [
        "# Add start and end tokens to target sequences\n",
        "lines.mar = lines.mar.apply(lambda x : 'START_ '+ x + ' _END')"
      ],
      "execution_count": 0,
      "outputs": []
    },
    {
      "cell_type": "code",
      "metadata": {
        "id": "lDS8k6V5LXbS",
        "colab_type": "code",
        "colab": {
          "base_uri": "https://localhost:8080/",
          "height": 359
        },
        "outputId": "88f2007c-1a33-4138-fdcd-2ba698afa24d"
      },
      "source": [
        "lines.sample(10)"
      ],
      "execution_count": 19,
      "outputs": [
        {
          "output_type": "execute_result",
          "data": {
            "text/html": [
              "<div>\n",
              "<style scoped>\n",
              "    .dataframe tbody tr th:only-of-type {\n",
              "        vertical-align: middle;\n",
              "    }\n",
              "\n",
              "    .dataframe tbody tr th {\n",
              "        vertical-align: top;\n",
              "    }\n",
              "\n",
              "    .dataframe thead th {\n",
              "        text-align: right;\n",
              "    }\n",
              "</style>\n",
              "<table border=\"1\" class=\"dataframe\">\n",
              "  <thead>\n",
              "    <tr style=\"text-align: right;\">\n",
              "      <th></th>\n",
              "      <th>eng</th>\n",
              "      <th>mar</th>\n",
              "    </tr>\n",
              "  </thead>\n",
              "  <tbody>\n",
              "    <tr>\n",
              "      <th>24503</th>\n",
              "      <td>il a détruit complètement la case</td>\n",
              "      <td>START_ e kíjá xɔ ɔ́ _END</td>\n",
              "    </tr>\n",
              "    <tr>\n",
              "      <th>27415</th>\n",
              "      <td>j’ai une plaie inguérissable</td>\n",
              "      <td>START_ un ɖò cákpásúahlo jɛ wɛ̀ _END</td>\n",
              "    </tr>\n",
              "    <tr>\n",
              "      <th>23864</th>\n",
              "      <td>il m’a heurté violemment</td>\n",
              "      <td>START_ é xò aglo mì gblawùn _END</td>\n",
              "    </tr>\n",
              "    <tr>\n",
              "      <th>14348</th>\n",
              "      <td>il y a eu la famine</td>\n",
              "      <td>START_ adɔ tɔ́n _END</td>\n",
              "    </tr>\n",
              "    <tr>\n",
              "      <th>6772</th>\n",
              "      <td>au niveau de</td>\n",
              "      <td>START_ lixò _END</td>\n",
              "    </tr>\n",
              "    <tr>\n",
              "      <th>2823</th>\n",
              "      <td>tenue</td>\n",
              "      <td>START_ hăɖotè _END</td>\n",
              "    </tr>\n",
              "    <tr>\n",
              "      <th>1467</th>\n",
              "      <td>glace</td>\n",
              "      <td>START_ glăsì _END</td>\n",
              "    </tr>\n",
              "    <tr>\n",
              "      <th>33014</th>\n",
              "      <td>et ses chemises sont de plus en plus laides</td>\n",
              "      <td>START_ bo awu tɔn lε ɖo nyla kan de ji wε _END</td>\n",
              "    </tr>\n",
              "    <tr>\n",
              "      <th>19271</th>\n",
              "      <td>tu travailles bien</td>\n",
              "      <td>START_ a nɔ w’àzɔ̆ ganjí _END</td>\n",
              "    </tr>\n",
              "    <tr>\n",
              "      <th>28579</th>\n",
              "      <td>les feuilles se détachent et senvolent</td>\n",
              "      <td>START_ folo lε ɖo ɖiɖe wε _END</td>\n",
              "    </tr>\n",
              "  </tbody>\n",
              "</table>\n",
              "</div>"
            ],
            "text/plain": [
              "                                               eng                                             mar\n",
              "24503            il a détruit complètement la case                        START_ e kíjá xɔ ɔ́ _END\n",
              "27415                 j’ai une plaie inguérissable            START_ un ɖò cákpásúahlo jɛ wɛ̀ _END\n",
              "23864                     il m’a heurté violemment                START_ é xò aglo mì gblawùn _END\n",
              "14348                          il y a eu la famine                            START_ adɔ tɔ́n _END\n",
              "6772                                  au niveau de                                START_ lixò _END\n",
              "2823                                         tenue                              START_ hăɖotè _END\n",
              "1467                                         glace                               START_ glăsì _END\n",
              "33014  et ses chemises sont de plus en plus laides  START_ bo awu tɔn lε ɖo nyla kan de ji wε _END\n",
              "19271                           tu travailles bien                   START_ a nɔ w’àzɔ̆ ganjí _END\n",
              "28579       les feuilles se détachent et senvolent                  START_ folo lε ɖo ɖiɖe wε _END"
            ]
          },
          "metadata": {
            "tags": []
          },
          "execution_count": 19
        }
      ]
    },
    {
      "cell_type": "code",
      "metadata": {
        "id": "7NvV4wZXLXbW",
        "colab_type": "code",
        "colab": {}
      },
      "source": [
        "# Vocabulary of English\n",
        "all_eng_words=set()\n",
        "for eng in lines.eng:\n",
        "    for word in eng.split():\n",
        "        if word not in all_eng_words:\n",
        "            all_eng_words.add(word)\n",
        "\n",
        "# Vocabulary of French \n",
        "all_marathi_words=set()\n",
        "for mar in lines.mar:\n",
        "    for word in mar.split():\n",
        "        if word not in all_marathi_words:\n",
        "            all_marathi_words.add(word)"
      ],
      "execution_count": 0,
      "outputs": []
    },
    {
      "cell_type": "code",
      "metadata": {
        "id": "fzXzE8GVLXbZ",
        "colab_type": "code",
        "colab": {
          "base_uri": "https://localhost:8080/",
          "height": 34
        },
        "outputId": "0114c061-e174-48aa-91e8-47ceb573acc0"
      },
      "source": [
        "# Max Length of source sequence\n",
        "lenght_list=[]\n",
        "for l in lines.eng:\n",
        "    lenght_list.append(len(l.split(' ')))\n",
        "max_length_src = np.max(lenght_list)\n",
        "max_length_src"
      ],
      "execution_count": 21,
      "outputs": [
        {
          "output_type": "execute_result",
          "data": {
            "text/plain": [
              "20"
            ]
          },
          "metadata": {
            "tags": []
          },
          "execution_count": 21
        }
      ]
    },
    {
      "cell_type": "code",
      "metadata": {
        "id": "-AeMBxT3LXbc",
        "colab_type": "code",
        "colab": {
          "base_uri": "https://localhost:8080/",
          "height": 34
        },
        "outputId": "d36832f3-bcdd-423d-fd76-bb0692cc7a21"
      },
      "source": [
        "# Max Length of target sequence\n",
        "lenght_list=[]\n",
        "for l in lines.mar:\n",
        "    lenght_list.append(len(l.split(' ')))\n",
        "max_length_tar = np.max(lenght_list)\n",
        "max_length_tar"
      ],
      "execution_count": 22,
      "outputs": [
        {
          "output_type": "execute_result",
          "data": {
            "text/plain": [
              "21"
            ]
          },
          "metadata": {
            "tags": []
          },
          "execution_count": 22
        }
      ]
    },
    {
      "cell_type": "code",
      "metadata": {
        "id": "-yvDvgnBLXbh",
        "colab_type": "code",
        "colab": {
          "base_uri": "https://localhost:8080/",
          "height": 34
        },
        "outputId": "e0b0ee72-8ff8-42f6-abc7-9583a2782989"
      },
      "source": [
        "input_words = sorted(list(all_eng_words))\n",
        "target_words = sorted(list(all_marathi_words))\n",
        "num_encoder_tokens = len(all_eng_words)\n",
        "num_decoder_tokens = len(all_marathi_words)\n",
        "num_encoder_tokens, num_decoder_tokens"
      ],
      "execution_count": 23,
      "outputs": [
        {
          "output_type": "execute_result",
          "data": {
            "text/plain": [
              "(12210, 13211)"
            ]
          },
          "metadata": {
            "tags": []
          },
          "execution_count": 23
        }
      ]
    },
    {
      "cell_type": "code",
      "metadata": {
        "id": "L2MpMMM_LXbk",
        "colab_type": "code",
        "colab": {
          "base_uri": "https://localhost:8080/",
          "height": 34
        },
        "outputId": "4ac251f1-56d5-4a53-d081-66cf0f1926a1"
      },
      "source": [
        "num_decoder_tokens += 1 # For zero padding\n",
        "num_encoder_tokens += 1 # Par francis pour eviter invalidArgumentError\n",
        "num_decoder_tokens, num_encoder_tokens"
      ],
      "execution_count": 24,
      "outputs": [
        {
          "output_type": "execute_result",
          "data": {
            "text/plain": [
              "(13212, 12211)"
            ]
          },
          "metadata": {
            "tags": []
          },
          "execution_count": 24
        }
      ]
    },
    {
      "cell_type": "code",
      "metadata": {
        "id": "R8GfEZkHLXbn",
        "colab_type": "code",
        "colab": {}
      },
      "source": [
        "input_token_index = dict([(word, i+1) for i, word in enumerate(input_words)])\n",
        "target_token_index = dict([(word, i+1) for i, word in enumerate(target_words)])"
      ],
      "execution_count": 0,
      "outputs": []
    },
    {
      "cell_type": "code",
      "metadata": {
        "id": "bPrnlODbLXbq",
        "colab_type": "code",
        "colab": {}
      },
      "source": [
        "reverse_input_char_index = dict((i, word) for word, i in input_token_index.items())\n",
        "reverse_target_char_index = dict((i, word) for word, i in target_token_index.items())"
      ],
      "execution_count": 0,
      "outputs": []
    },
    {
      "cell_type": "code",
      "metadata": {
        "id": "ale-Z_toLXbt",
        "colab_type": "code",
        "colab": {
          "base_uri": "https://localhost:8080/",
          "height": 359
        },
        "outputId": "4abfe865-af1d-4eed-c4a1-ccd83b8cba0e"
      },
      "source": [
        "lines = shuffle(lines)\n",
        "lines.head(10)"
      ],
      "execution_count": 27,
      "outputs": [
        {
          "output_type": "execute_result",
          "data": {
            "text/html": [
              "<div>\n",
              "<style scoped>\n",
              "    .dataframe tbody tr th:only-of-type {\n",
              "        vertical-align: middle;\n",
              "    }\n",
              "\n",
              "    .dataframe tbody tr th {\n",
              "        vertical-align: top;\n",
              "    }\n",
              "\n",
              "    .dataframe thead th {\n",
              "        text-align: right;\n",
              "    }\n",
              "</style>\n",
              "<table border=\"1\" class=\"dataframe\">\n",
              "  <thead>\n",
              "    <tr style=\"text-align: right;\">\n",
              "      <th></th>\n",
              "      <th>eng</th>\n",
              "      <th>mar</th>\n",
              "    </tr>\n",
              "  </thead>\n",
              "  <tbody>\n",
              "    <tr>\n",
              "      <th>11652</th>\n",
              "      <td>histoire vraie</td>\n",
              "      <td>START_ tankpikpi _END</td>\n",
              "    </tr>\n",
              "    <tr>\n",
              "      <th>56</th>\n",
              "      <td>ver</td>\n",
              "      <td>START_ wĕ _END</td>\n",
              "    </tr>\n",
              "    <tr>\n",
              "      <th>34199</th>\n",
              "      <td>linstituteur informé du vol ne dit rien dabord</td>\n",
              "      <td>START_ e ɖɔ ajo xo ɔ nu mεsi ɔ bɔ e ɖɔ nuti hw...</td>\n",
              "    </tr>\n",
              "    <tr>\n",
              "      <th>11570</th>\n",
              "      <td>cela me suffit</td>\n",
              "      <td>START_ e kpé mì _END</td>\n",
              "    </tr>\n",
              "    <tr>\n",
              "      <th>9328</th>\n",
              "      <td>des chats</td>\n",
              "      <td>START_ awii ɖe lε _END</td>\n",
              "    </tr>\n",
              "    <tr>\n",
              "      <th>20092</th>\n",
              "      <td>tu vas trop vite</td>\n",
              "      <td>START_ a no ɖo wezun din _END</td>\n",
              "    </tr>\n",
              "    <tr>\n",
              "      <th>11681</th>\n",
              "      <td>brume d’harmattan</td>\n",
              "      <td>START_ akpitì _END</td>\n",
              "    </tr>\n",
              "    <tr>\n",
              "      <th>1067</th>\n",
              "      <td>chemin</td>\n",
              "      <td>START_ ali _END</td>\n",
              "    </tr>\n",
              "    <tr>\n",
              "      <th>12188</th>\n",
              "      <td>chef vodoun de dàn</td>\n",
              "      <td>START_ dannɔ̀ _END</td>\n",
              "    </tr>\n",
              "    <tr>\n",
              "      <th>10623</th>\n",
              "      <td>citerne souterraine</td>\n",
              "      <td>START_ lĭ _END</td>\n",
              "    </tr>\n",
              "  </tbody>\n",
              "</table>\n",
              "</div>"
            ],
            "text/plain": [
              "                                                  eng                                                mar\n",
              "11652                                  histoire vraie                              START_ tankpikpi _END\n",
              "56                                                ver                                     START_ wĕ _END\n",
              "34199  linstituteur informé du vol ne dit rien dabord  START_ e ɖɔ ajo xo ɔ nu mεsi ɔ bɔ e ɖɔ nuti hw...\n",
              "11570                                  cela me suffit                               START_ e kpé mì _END\n",
              "9328                                        des chats                             START_ awii ɖe lε _END\n",
              "20092                                tu vas trop vite                      START_ a no ɖo wezun din _END\n",
              "11681                               brume d’harmattan                                 START_ akpitì _END\n",
              "1067                                           chemin                                    START_ ali _END\n",
              "12188                              chef vodoun de dàn                                 START_ dannɔ̀ _END\n",
              "10623                             citerne souterraine                                     START_ lĭ _END"
            ]
          },
          "metadata": {
            "tags": []
          },
          "execution_count": 27
        }
      ]
    },
    {
      "cell_type": "code",
      "metadata": {
        "id": "pYrQuZrILXbx",
        "colab_type": "code",
        "colab": {
          "base_uri": "https://localhost:8080/",
          "height": 34
        },
        "outputId": "acd18580-4ebb-4b27-a10e-2056440af941"
      },
      "source": [
        "# Train - Test Split\n",
        "X, y = lines.eng, lines.mar\n",
        "X_train, X_test, y_train, y_test = train_test_split(X, y, test_size = 0.1)\n",
        "X_train.shape, X_test.shape"
      ],
      "execution_count": 28,
      "outputs": [
        {
          "output_type": "execute_result",
          "data": {
            "text/plain": [
              "((31500,), (3500,))"
            ]
          },
          "metadata": {
            "tags": []
          },
          "execution_count": 28
        }
      ]
    },
    {
      "cell_type": "markdown",
      "metadata": {
        "id": "SSMBZTOALXb4",
        "colab_type": "text"
      },
      "source": [
        "#### Save the train and test dataframes for reproducing the results later, as they are shuffled."
      ]
    },
    {
      "cell_type": "code",
      "metadata": {
        "id": "mIQ9nhiaLXb5",
        "colab_type": "code",
        "colab": {}
      },
      "source": [
        "X_train.to_pickle('X_train.pkl')\n",
        "X_test.to_pickle('X_test.pkl')"
      ],
      "execution_count": 0,
      "outputs": []
    },
    {
      "cell_type": "code",
      "metadata": {
        "id": "vTqi_tPULXb_",
        "colab_type": "code",
        "colab": {}
      },
      "source": [
        "def generate_batch(X = X_train, y = y_train, batch_size = 128):\n",
        "    ''' Generate a batch of data '''\n",
        "    while True:\n",
        "        for j in range(0, len(X), batch_size):\n",
        "            encoder_input_data = np.zeros((batch_size, max_length_src),dtype='float32')\n",
        "            decoder_input_data = np.zeros((batch_size, max_length_tar),dtype='float32')\n",
        "            decoder_target_data = np.zeros((batch_size, max_length_tar, num_decoder_tokens),dtype='float32')\n",
        "            for i, (input_text, target_text) in enumerate(zip(X[j:j+batch_size], y[j:j+batch_size])):\n",
        "                for t, word in enumerate(input_text.split()):\n",
        "                    encoder_input_data[i, t] = input_token_index[word] # encoder input seq\n",
        "                for t, word in enumerate(target_text.split()):\n",
        "                    if t<len(target_text.split())-1:\n",
        "                        decoder_input_data[i, t] = target_token_index[word] # decoder input seq\n",
        "                    if t>0:\n",
        "                        # decoder target sequence (one hot encoded)\n",
        "                        # does not include the START_ token\n",
        "                        # Offset by one timestep\n",
        "                        decoder_target_data[i, t - 1, target_token_index[word]] = 1.\n",
        "            yield([encoder_input_data, decoder_input_data], decoder_target_data)"
      ],
      "execution_count": 0,
      "outputs": []
    },
    {
      "cell_type": "markdown",
      "metadata": {
        "id": "Mj7nWVZpLXcC",
        "colab_type": "text"
      },
      "source": [
        "### Encoder - Decoder Model Architecture"
      ]
    },
    {
      "cell_type": "code",
      "metadata": {
        "id": "5m1lBe5TLXcD",
        "colab_type": "code",
        "colab": {}
      },
      "source": [
        "latent_dim = 50"
      ],
      "execution_count": 0,
      "outputs": []
    },
    {
      "cell_type": "code",
      "metadata": {
        "id": "FGc1sI5iLXcG",
        "colab_type": "code",
        "colab": {}
      },
      "source": [
        "main_parameters = {\n",
        "            \n",
        "        \"num_decoder_tokens\" : num_decoder_tokens,\n",
        "        \"num_encoder_tokens\" : num_encoder_tokens,\n",
        "        \"input_token_index\" : input_token_index,\n",
        "        \"target_token_index\" : target_token_index,\n",
        "        \"reverse_input_char_index\": reverse_input_char_index,\n",
        "        \"reverse_target_char_index\" : reverse_target_char_index,\n",
        "        \"latent_dim\" : latent_dim,\n",
        "        \"max_length_tar\" : max_length_tar,\n",
        "        \"max_length_src\" : max_length_src,\n",
        "        \"input_words\" : input_words,\n",
        "        \"target_words\" : target_words\n",
        "        }\n",
        "\n",
        "with  open(\"main_parameters\", 'wb') as file_:\n",
        "    pickle.dump(main_parameters, file_)\n"
      ],
      "execution_count": 0,
      "outputs": []
    },
    {
      "cell_type": "code",
      "metadata": {
        "id": "sHcYsKGdLXcK",
        "colab_type": "code",
        "colab": {
          "base_uri": "https://localhost:8080/",
          "height": 207
        },
        "outputId": "0c1f2637-3f7d-43a7-8e6b-fceb7ac45fe5"
      },
      "source": [
        "# Encoder\n",
        "\n",
        "encoder_inputs = Input(shape=(None,))\n",
        "enc_emb =  Embedding(num_encoder_tokens, latent_dim, mask_zero = True)(encoder_inputs)\n",
        "encoder_lstm = LSTM(latent_dim, return_state=True)\n",
        "encoder_outputs, state_h, state_c = encoder_lstm(enc_emb)\n",
        "# We discard `encoder_outputs` and only keep the states.\n",
        "encoder_states = [state_h, state_c]\n",
        "\n",
        "num_encoder_tokens, latent_dim"
      ],
      "execution_count": 33,
      "outputs": [
        {
          "output_type": "stream",
          "text": [
            "WARNING:tensorflow:From /usr/local/lib/python3.6/dist-packages/keras/backend/tensorflow_backend.py:66: The name tf.get_default_graph is deprecated. Please use tf.compat.v1.get_default_graph instead.\n",
            "\n",
            "WARNING:tensorflow:From /usr/local/lib/python3.6/dist-packages/keras/backend/tensorflow_backend.py:541: The name tf.placeholder is deprecated. Please use tf.compat.v1.placeholder instead.\n",
            "\n",
            "WARNING:tensorflow:From /usr/local/lib/python3.6/dist-packages/keras/backend/tensorflow_backend.py:4432: The name tf.random_uniform is deprecated. Please use tf.random.uniform instead.\n",
            "\n",
            "WARNING:tensorflow:From /usr/local/lib/python3.6/dist-packages/keras/backend/tensorflow_backend.py:3239: where (from tensorflow.python.ops.array_ops) is deprecated and will be removed in a future version.\n",
            "Instructions for updating:\n",
            "Use tf.where in 2.0, which has the same broadcast rule as np.where\n"
          ],
          "name": "stdout"
        },
        {
          "output_type": "execute_result",
          "data": {
            "text/plain": [
              "(12211, 50)"
            ]
          },
          "metadata": {
            "tags": []
          },
          "execution_count": 33
        }
      ]
    },
    {
      "cell_type": "code",
      "metadata": {
        "id": "jN8LnSswLXcO",
        "colab_type": "code",
        "colab": {}
      },
      "source": [
        "# Set up the decoder, using `encoder_states` as initial state.\n",
        "decoder_inputs = Input(shape=(None,))\n",
        "dec_emb_layer = Embedding(num_decoder_tokens, latent_dim, mask_zero = True)\n",
        "dec_emb = dec_emb_layer(decoder_inputs)\n",
        "# We set up our decoder to return full output sequences,\n",
        "# and to return internal states as well. We don't use the\n",
        "# return states in the training model, but we will use them in inference.\n",
        "decoder_lstm = LSTM(latent_dim, return_sequences=True, return_state=True)\n",
        "decoder_outputs, _, _ = decoder_lstm(dec_emb,\n",
        "                                     initial_state=encoder_states)\n",
        "decoder_dense = Dense(num_decoder_tokens, activation='softmax')\n",
        "decoder_outputs = decoder_dense(decoder_outputs)\n",
        "\n",
        "# Define the model that will turn\n",
        "# `encoder_input_data` & `decoder_input_data` into `decoder_target_data`\n",
        "model = Model([encoder_inputs, decoder_inputs], decoder_outputs)"
      ],
      "execution_count": 0,
      "outputs": []
    },
    {
      "cell_type": "code",
      "metadata": {
        "id": "rKn5aJHsLXcR",
        "colab_type": "code",
        "colab": {
          "base_uri": "https://localhost:8080/",
          "height": 105
        },
        "outputId": "ad36702d-9261-4fd5-f86b-2885b8864c1e"
      },
      "source": [
        "model.compile(optimizer='rmsprop', loss='categorical_crossentropy', metrics=['acc'])"
      ],
      "execution_count": 35,
      "outputs": [
        {
          "output_type": "stream",
          "text": [
            "WARNING:tensorflow:From /usr/local/lib/python3.6/dist-packages/keras/optimizers.py:793: The name tf.train.Optimizer is deprecated. Please use tf.compat.v1.train.Optimizer instead.\n",
            "\n",
            "WARNING:tensorflow:From /usr/local/lib/python3.6/dist-packages/keras/backend/tensorflow_backend.py:3576: The name tf.log is deprecated. Please use tf.math.log instead.\n",
            "\n"
          ],
          "name": "stdout"
        }
      ]
    },
    {
      "cell_type": "code",
      "metadata": {
        "id": "pjV5OJHqLXcT",
        "colab_type": "code",
        "colab": {}
      },
      "source": [
        "#from IPython.display import Image\n",
        "#Image(retina=True, filename='train_model.png')"
      ],
      "execution_count": 0,
      "outputs": []
    },
    {
      "cell_type": "code",
      "metadata": {
        "id": "GJZ376AaLXcW",
        "colab_type": "code",
        "colab": {
          "base_uri": "https://localhost:8080/",
          "height": 34
        },
        "outputId": "75245f78-7452-48b2-f5b8-80202e7c7c8f"
      },
      "source": [
        "train_samples = len(X_train)\n",
        "val_samples = len(X_test)\n",
        "batch_size = 128\n",
        "#batch_size = 64\n",
        "epochs = 50\n",
        "\n",
        "val_samples"
      ],
      "execution_count": 37,
      "outputs": [
        {
          "output_type": "execute_result",
          "data": {
            "text/plain": [
              "3500"
            ]
          },
          "metadata": {
            "tags": []
          },
          "execution_count": 37
        }
      ]
    },
    {
      "cell_type": "code",
      "metadata": {
        "id": "UkCoBgxmLXca",
        "colab_type": "code",
        "colab": {
          "base_uri": "https://localhost:8080/",
          "height": 1000
        },
        "outputId": "4b8ce6bd-0296-4c75-c587-202dd35c1d9c"
      },
      "source": [
        "model.fit_generator(generator = generate_batch(X_train, y_train, batch_size = batch_size),\n",
        "                    steps_per_epoch = train_samples//batch_size,\n",
        "                    epochs=epochs,\n",
        "                    validation_data = generate_batch(X_test, y_test, batch_size = batch_size),\n",
        "                    validation_steps = val_samples//batch_size)"
      ],
      "execution_count": 39,
      "outputs": [
        {
          "output_type": "stream",
          "text": [
            "Epoch 1/50\n",
            "246/246 [==============================] - 49s 198ms/step - loss: 4.3108 - acc: 0.3180 - val_loss: 4.6777 - val_acc: 0.3119\n",
            "Epoch 2/50\n",
            "246/246 [==============================] - 48s 196ms/step - loss: 4.2567 - acc: 0.3237 - val_loss: 4.6623 - val_acc: 0.3179\n",
            "Epoch 3/50\n",
            "246/246 [==============================] - 48s 197ms/step - loss: 4.2065 - acc: 0.3300 - val_loss: 4.6459 - val_acc: 0.3197\n",
            "Epoch 4/50\n",
            "246/246 [==============================] - 49s 197ms/step - loss: 4.1459 - acc: 0.3357 - val_loss: 4.6211 - val_acc: 0.3234\n",
            "Epoch 5/50\n",
            "246/246 [==============================] - 48s 196ms/step - loss: 4.0946 - acc: 0.3416 - val_loss: 4.6013 - val_acc: 0.3270\n",
            "Epoch 6/50\n",
            "246/246 [==============================] - 48s 197ms/step - loss: 4.0516 - acc: 0.3471 - val_loss: 4.5922 - val_acc: 0.3293\n",
            "Epoch 7/50\n",
            "246/246 [==============================] - 48s 197ms/step - loss: 4.0096 - acc: 0.3526 - val_loss: 4.5746 - val_acc: 0.3329\n",
            "Epoch 8/50\n",
            "246/246 [==============================] - 48s 195ms/step - loss: 3.9690 - acc: 0.3578 - val_loss: 4.5631 - val_acc: 0.3350\n",
            "Epoch 9/50\n",
            "246/246 [==============================] - 49s 200ms/step - loss: 3.9250 - acc: 0.3636 - val_loss: 4.5446 - val_acc: 0.3385\n",
            "Epoch 10/50\n",
            "246/246 [==============================] - 49s 198ms/step - loss: 3.8823 - acc: 0.3692 - val_loss: 4.5371 - val_acc: 0.3382\n",
            "Epoch 11/50\n",
            "246/246 [==============================] - 48s 197ms/step - loss: 3.8369 - acc: 0.3740 - val_loss: 4.5335 - val_acc: 0.3414\n",
            "Epoch 12/50\n",
            "246/246 [==============================] - 48s 196ms/step - loss: 3.8006 - acc: 0.3798 - val_loss: 4.5286 - val_acc: 0.3435\n",
            "Epoch 13/50\n",
            "246/246 [==============================] - 48s 197ms/step - loss: 3.7680 - acc: 0.3849 - val_loss: 4.5313 - val_acc: 0.3452\n",
            "Epoch 14/50\n",
            "246/246 [==============================] - 48s 196ms/step - loss: 3.7382 - acc: 0.3889 - val_loss: 4.5208 - val_acc: 0.3468\n",
            "Epoch 15/50\n",
            "246/246 [==============================] - 48s 197ms/step - loss: 3.7055 - acc: 0.3941 - val_loss: 4.5041 - val_acc: 0.3490\n",
            "Epoch 16/50\n",
            "246/246 [==============================] - 48s 197ms/step - loss: 3.6730 - acc: 0.3990 - val_loss: 4.5040 - val_acc: 0.3514\n",
            "Epoch 17/50\n",
            "246/246 [==============================] - 48s 197ms/step - loss: 3.6456 - acc: 0.4040 - val_loss: 4.4848 - val_acc: 0.3534\n",
            "Epoch 18/50\n",
            "246/246 [==============================] - 48s 196ms/step - loss: 3.6179 - acc: 0.4090 - val_loss: 4.4787 - val_acc: 0.3557\n",
            "Epoch 19/50\n",
            "246/246 [==============================] - 48s 195ms/step - loss: 3.5866 - acc: 0.4135 - val_loss: 4.4627 - val_acc: 0.3578\n",
            "Epoch 20/50\n",
            "246/246 [==============================] - 48s 195ms/step - loss: 3.5586 - acc: 0.4177 - val_loss: 4.4712 - val_acc: 0.3612\n",
            "Epoch 21/50\n",
            "246/246 [==============================] - 48s 195ms/step - loss: 3.5352 - acc: 0.4234 - val_loss: 4.4512 - val_acc: 0.3621\n",
            "Epoch 22/50\n",
            "246/246 [==============================] - 48s 195ms/step - loss: 3.5165 - acc: 0.4267 - val_loss: 4.4600 - val_acc: 0.3642\n",
            "Epoch 23/50\n",
            "246/246 [==============================] - 48s 195ms/step - loss: 3.4958 - acc: 0.4315 - val_loss: 4.4774 - val_acc: 0.3635\n",
            "Epoch 24/50\n",
            "246/246 [==============================] - 48s 195ms/step - loss: 3.4754 - acc: 0.4362 - val_loss: 4.4870 - val_acc: 0.3657\n",
            "Epoch 25/50\n",
            "246/246 [==============================] - 48s 195ms/step - loss: 3.4559 - acc: 0.4404 - val_loss: 4.4695 - val_acc: 0.3700\n",
            "Epoch 26/50\n",
            "246/246 [==============================] - 48s 194ms/step - loss: 3.4390 - acc: 0.4451 - val_loss: 4.4877 - val_acc: 0.3684\n",
            "Epoch 27/50\n",
            "246/246 [==============================] - 48s 194ms/step - loss: 3.4229 - acc: 0.4484 - val_loss: 4.4754 - val_acc: 0.3720\n",
            "Epoch 28/50\n",
            "246/246 [==============================] - 48s 194ms/step - loss: 3.4060 - acc: 0.4527 - val_loss: 4.4836 - val_acc: 0.3717\n",
            "Epoch 29/50\n",
            "246/246 [==============================] - 48s 195ms/step - loss: 3.3885 - acc: 0.4564 - val_loss: 4.4812 - val_acc: 0.3745\n",
            "Epoch 30/50\n",
            "246/246 [==============================] - 48s 195ms/step - loss: 3.3670 - acc: 0.4608 - val_loss: 4.4738 - val_acc: 0.3768\n",
            "Epoch 31/50\n",
            "246/246 [==============================] - 48s 194ms/step - loss: 3.3450 - acc: 0.4640 - val_loss: 4.4455 - val_acc: 0.3797\n",
            "Epoch 32/50\n",
            "246/246 [==============================] - 48s 194ms/step - loss: 3.3222 - acc: 0.4680 - val_loss: 4.4571 - val_acc: 0.3809\n",
            "Epoch 33/50\n",
            "246/246 [==============================] - 48s 194ms/step - loss: 3.3006 - acc: 0.4718 - val_loss: 4.4374 - val_acc: 0.3836\n",
            "Epoch 34/50\n",
            "246/246 [==============================] - 48s 194ms/step - loss: 3.2781 - acc: 0.4753 - val_loss: 4.4437 - val_acc: 0.3842\n",
            "Epoch 35/50\n",
            "246/246 [==============================] - 48s 193ms/step - loss: 3.2573 - acc: 0.4786 - val_loss: 4.4422 - val_acc: 0.3856\n",
            "Epoch 36/50\n",
            "246/246 [==============================] - 48s 193ms/step - loss: 3.2369 - acc: 0.4826 - val_loss: 4.4394 - val_acc: 0.3872\n",
            "Epoch 37/50\n",
            "246/246 [==============================] - 47s 192ms/step - loss: 3.2168 - acc: 0.4867 - val_loss: 4.4315 - val_acc: 0.3883\n",
            "Epoch 38/50\n",
            "246/246 [==============================] - 47s 192ms/step - loss: 3.1999 - acc: 0.4899 - val_loss: 4.4436 - val_acc: 0.3903\n",
            "Epoch 39/50\n",
            "246/246 [==============================] - 47s 192ms/step - loss: 3.1813 - acc: 0.4928 - val_loss: 4.4434 - val_acc: 0.3881\n",
            "Epoch 40/50\n",
            "246/246 [==============================] - 48s 196ms/step - loss: 3.1646 - acc: 0.4972 - val_loss: 4.4380 - val_acc: 0.3883\n",
            "Epoch 41/50\n",
            "246/246 [==============================] - 48s 194ms/step - loss: 3.1498 - acc: 0.4995 - val_loss: 4.4414 - val_acc: 0.3909\n",
            "Epoch 42/50\n",
            "246/246 [==============================] - 48s 195ms/step - loss: 3.1319 - acc: 0.5028 - val_loss: 4.4522 - val_acc: 0.3925\n",
            "Epoch 43/50\n",
            "246/246 [==============================] - 48s 195ms/step - loss: 3.1163 - acc: 0.5059 - val_loss: 4.4468 - val_acc: 0.3899\n",
            "Epoch 44/50\n",
            "246/246 [==============================] - 48s 194ms/step - loss: 3.0997 - acc: 0.5087 - val_loss: 4.4561 - val_acc: 0.3921\n",
            "Epoch 45/50\n",
            "246/246 [==============================] - 48s 195ms/step - loss: 3.0853 - acc: 0.5122 - val_loss: 4.4390 - val_acc: 0.3916\n",
            "Epoch 46/50\n",
            "246/246 [==============================] - 48s 195ms/step - loss: 3.0668 - acc: 0.5140 - val_loss: 4.4472 - val_acc: 0.3937\n",
            "Epoch 47/50\n",
            "246/246 [==============================] - 48s 195ms/step - loss: 3.0458 - acc: 0.5171 - val_loss: 4.4426 - val_acc: 0.3923\n",
            "Epoch 48/50\n",
            "246/246 [==============================] - 48s 194ms/step - loss: 3.0121 - acc: 0.5192 - val_loss: 4.4196 - val_acc: 0.3946\n",
            "Epoch 49/50\n",
            "246/246 [==============================] - 48s 195ms/step - loss: 2.9878 - acc: 0.5224 - val_loss: 4.4177 - val_acc: 0.3959\n",
            "Epoch 50/50\n",
            "246/246 [==============================] - 48s 194ms/step - loss: 2.9751 - acc: 0.5253 - val_loss: 4.4370 - val_acc: 0.3935\n"
          ],
          "name": "stdout"
        },
        {
          "output_type": "execute_result",
          "data": {
            "text/plain": [
              "<keras.callbacks.History at 0x7f1540041048>"
            ]
          },
          "metadata": {
            "tags": []
          },
          "execution_count": 39
        }
      ]
    },
    {
      "cell_type": "markdown",
      "metadata": {
        "id": "FXjSkhoDLXcd",
        "colab_type": "text"
      },
      "source": [
        "### Always remember to save the weights"
      ]
    },
    {
      "cell_type": "code",
      "metadata": {
        "id": "3QkZstnELXcg",
        "colab_type": "code",
        "colab": {}
      },
      "source": [
        "model.save_weights('nmt_weights.h5')"
      ],
      "execution_count": 0,
      "outputs": []
    },
    {
      "cell_type": "markdown",
      "metadata": {
        "id": "aBfzqr_NLXcm",
        "colab_type": "text"
      },
      "source": [
        "### Load the weights, if you close the application"
      ]
    },
    {
      "cell_type": "code",
      "metadata": {
        "id": "xmTrrUfILXcn",
        "colab_type": "code",
        "colab": {}
      },
      "source": [
        "model.load_weights('nmt_weights.h5')"
      ],
      "execution_count": 0,
      "outputs": []
    },
    {
      "cell_type": "markdown",
      "metadata": {
        "id": "2kHHYXR2LXcp",
        "colab_type": "text"
      },
      "source": [
        "### Inference Setup"
      ]
    },
    {
      "cell_type": "code",
      "metadata": {
        "id": "N7P2aQEZLXcq",
        "colab_type": "code",
        "colab": {}
      },
      "source": [
        "# Encode the input sequence to get the \"thought vectors\"\n",
        "encoder_model = Model(encoder_inputs, encoder_states)\n",
        "\n",
        "# Decoder setup\n",
        "# Below tensors will hold the states of the previous time step\n",
        "decoder_state_input_h = Input(shape=(latent_dim,))\n",
        "decoder_state_input_c = Input(shape=(latent_dim,))\n",
        "decoder_states_inputs = [decoder_state_input_h, decoder_state_input_c]\n",
        "\n",
        "dec_emb2= dec_emb_layer(decoder_inputs) # Get the embeddings of the decoder sequence\n",
        "\n",
        "# To predict the next word in the sequence, set the initial states to the states from the previous time step\n",
        "decoder_outputs2, state_h2, state_c2 = decoder_lstm(dec_emb2, initial_state=decoder_states_inputs)\n",
        "decoder_states2 = [state_h2, state_c2]\n",
        "decoder_outputs2 = decoder_dense(decoder_outputs2) # A dense softmax layer to generate prob dist. over the target vocabulary\n",
        "\n",
        "# Final decoder model\n",
        "decoder_model = Model(\n",
        "    [decoder_inputs] + decoder_states_inputs,\n",
        "    [decoder_outputs2] + decoder_states2)"
      ],
      "execution_count": 0,
      "outputs": []
    },
    {
      "cell_type": "code",
      "metadata": {
        "id": "mjM0PYbjLXct",
        "colab_type": "code",
        "colab": {}
      },
      "source": [
        "#Image(retina=True, filename='encoder_model.png')"
      ],
      "execution_count": 0,
      "outputs": []
    },
    {
      "cell_type": "code",
      "metadata": {
        "id": "eGoATbWlLXcv",
        "colab_type": "code",
        "colab": {}
      },
      "source": [
        "#Image(retina=True, filename='decoder_model.png')"
      ],
      "execution_count": 0,
      "outputs": []
    },
    {
      "cell_type": "code",
      "metadata": {
        "id": "FdOiD_OgLXcy",
        "colab_type": "code",
        "colab": {}
      },
      "source": [
        "\n",
        "# Enregistrement des models dans des fichiers séparés\n",
        "with open('encoder_model.json', 'w', encoding='utf8') as f:\n",
        "    f.write(encoder_model.to_json())\n",
        "encoder_model.save_weights('encoder_model_weights.h5')\n",
        "\n",
        "with open('decoder_model.json', 'w', encoding='utf8') as f:\n",
        "    f.write(decoder_model.to_json())\n",
        "decoder_model.save_weights('decoder_model_weights.h5')"
      ],
      "execution_count": 0,
      "outputs": []
    },
    {
      "cell_type": "markdown",
      "metadata": {
        "id": "mo52eRqjLXc3",
        "colab_type": "text"
      },
      "source": [
        "### Decode sample sequeces"
      ]
    },
    {
      "cell_type": "code",
      "metadata": {
        "id": "jz-uSyviLXc4",
        "colab_type": "code",
        "colab": {}
      },
      "source": [
        "def decode_sequence(input_seq):\n",
        "    # Encode the input as state vectors.\n",
        "    states_value = encoder_model.predict(input_seq)\n",
        "    # Generate empty target sequence of length 1.\n",
        "    target_seq = np.zeros((1,1))\n",
        "    # Populate the first character of target sequence with the start character.\n",
        "    target_seq[0, 0] = target_token_index['START_']\n",
        "\n",
        "    # Sampling loop for a batch of sequences\n",
        "    # (to simplify, here we assume a batch of size 1).\n",
        "    stop_condition = False\n",
        "    decoded_sentence = ''\n",
        "    while not stop_condition:\n",
        "        output_tokens, h, c = decoder_model.predict([target_seq] + states_value)\n",
        "\n",
        "        # Sample a token\n",
        "        sampled_token_index = np.argmax(output_tokens[0, -1, :])\n",
        "        sampled_char = reverse_target_char_index[sampled_token_index]\n",
        "        decoded_sentence += ' '+sampled_char\n",
        "\n",
        "        # Exit condition: either hit max length\n",
        "        # or find stop character.\n",
        "        if (sampled_char == '_END' or\n",
        "           len(decoded_sentence) > 50):\n",
        "            stop_condition = True\n",
        "\n",
        "        # Update the target sequence (of length 1).\n",
        "        target_seq = np.zeros((1,1))\n",
        "        target_seq[0, 0] = sampled_token_index\n",
        "\n",
        "        # Update states\n",
        "        states_value = [h, c]\n",
        "\n",
        "    return decoded_sentence"
      ],
      "execution_count": 0,
      "outputs": []
    },
    {
      "cell_type": "markdown",
      "metadata": {
        "id": "QGTsTMN2LXc-",
        "colab_type": "text"
      },
      "source": [
        "### Evaluation on Train Dataset"
      ]
    },
    {
      "cell_type": "code",
      "metadata": {
        "id": "opYW85EmLXc_",
        "colab_type": "code",
        "colab": {}
      },
      "source": [
        "train_gen = generate_batch(X_train, y_train, batch_size = 1)\n",
        "k=-1"
      ],
      "execution_count": 0,
      "outputs": []
    },
    {
      "cell_type": "code",
      "metadata": {
        "id": "yYDmflEuLXdC",
        "colab_type": "code",
        "colab": {
          "base_uri": "https://localhost:8080/",
          "height": 68
        },
        "outputId": "3a4d43e4-6a25-470d-a860-0d0e3063d981"
      },
      "source": [
        "k+=1\n",
        "(input_seq, actual_output), _ = next(train_gen)\n",
        "decoded_sentence = decode_sequence(input_seq)\n",
        "print('Input English sentence:', X_train[k:k+1].values[0])\n",
        "print('Actual Marathi Translation:', y_train[k:k+1].values[0][6:-4])\n",
        "print('Predicted Marathi Translation:', decoded_sentence[:-4])"
      ],
      "execution_count": 48,
      "outputs": [
        {
          "output_type": "stream",
          "text": [
            "Input English sentence: parle discrètement\n",
            "Actual Marathi Translation:  đɔ̀ xó dɛ̆dɛ̆ \n",
            "Predicted Marathi Translation:  ye ɖo te kpɔ́n wɛ̀ \n"
          ],
          "name": "stdout"
        }
      ]
    },
    {
      "cell_type": "code",
      "metadata": {
        "id": "4Nirh6rOLXdF",
        "colab_type": "code",
        "colab": {
          "base_uri": "https://localhost:8080/",
          "height": 68
        },
        "outputId": "58d0b4bb-3735-4df3-aeec-713b5f155ba2"
      },
      "source": [
        "k+=1\n",
        "(input_seq, actual_output), _ = next(train_gen)\n",
        "decoded_sentence = decode_sequence(input_seq)\n",
        "print('Input English sentence:', X_train[k:k+1].values[0])\n",
        "print('Actual Marathi Translation:', y_train[k:k+1].values[0][6:-4])\n",
        "print('Predicted Marathi Translation:', decoded_sentence[:-4])"
      ],
      "execution_count": 49,
      "outputs": [
        {
          "output_type": "stream",
          "text": [
            "Input English sentence: cest pour moi\n",
            "Actual Marathi Translation:  nyεtɔn wε \n",
            "Predicted Marathi Translation:  nù cé wɛ̀ \n"
          ],
          "name": "stdout"
        }
      ]
    },
    {
      "cell_type": "code",
      "metadata": {
        "id": "7gntBdAMLXdH",
        "colab_type": "code",
        "colab": {
          "base_uri": "https://localhost:8080/",
          "height": 68
        },
        "outputId": "53716323-60cd-433b-ec0c-1f156b44840d"
      },
      "source": [
        "k+=1\n",
        "(input_seq, actual_output), _ = next(train_gen)\n",
        "decoded_sentence = decode_sequence(input_seq)\n",
        "print('Input English sentence:', X_train[k:k+1].values[0])\n",
        "print('Actual Marathi Translation:', y_train[k:k+1].values[0][6:-4])\n",
        "print('Predicted Marathi Translation:', decoded_sentence[:-4])"
      ],
      "execution_count": 50,
      "outputs": [
        {
          "output_type": "stream",
          "text": [
            "Input English sentence: a demain\n",
            "Actual Marathi Translation:  mawu ni fɔn mi \n",
            "Predicted Marathi Translation:  e wa sɔ \n"
          ],
          "name": "stdout"
        }
      ]
    },
    {
      "cell_type": "code",
      "metadata": {
        "id": "4TNnBg9pLXdK",
        "colab_type": "code",
        "colab": {
          "base_uri": "https://localhost:8080/",
          "height": 68
        },
        "outputId": "6bf9e98d-a229-499f-e91e-d3eee68ec809"
      },
      "source": [
        "k+=1\n",
        "(input_seq, actual_output), _ = next(train_gen)\n",
        "decoded_sentence = decode_sequence(input_seq)\n",
        "print('Input English sentence:', X_train[k:k+1].values[0])\n",
        "print('Actual Marathi Translation:', y_train[k:k+1].values[0][6:-4])\n",
        "print('Predicted Marathi Translation:', decoded_sentence[:-4])"
      ],
      "execution_count": 51,
      "outputs": [
        {
          "output_type": "stream",
          "text": [
            "Input English sentence: lenfant est une chose\n",
            "Actual Marathi Translation:  vi nyi nu \n",
            "Predicted Marathi Translation:  vi ce ɖo \n"
          ],
          "name": "stdout"
        }
      ]
    },
    {
      "cell_type": "code",
      "metadata": {
        "id": "RndNtR55LXdQ",
        "colab_type": "code",
        "colab": {
          "base_uri": "https://localhost:8080/",
          "height": 68
        },
        "outputId": "55c8f992-5cad-428b-e44b-ae0f019d52e2"
      },
      "source": [
        "k+=1\n",
        "(input_seq, actual_output), _ = next(train_gen)\n",
        "decoded_sentence = decode_sequence(input_seq)\n",
        "print('Input English sentence:', X_train[k:k+1].values[0])\n",
        "print('Actual Marathi Translation:', y_train[k:k+1].values[0][6:-4])\n",
        "print('Predicted Marathi Translation:', decoded_sentence[:-4])"
      ],
      "execution_count": 52,
      "outputs": [
        {
          "output_type": "stream",
          "text": [
            "Input English sentence: gibier à plume\n",
            "Actual Marathi Translation:  xɛlàn \n",
            "Predicted Marathi Translation:  ɔ fesinnɔ \n"
          ],
          "name": "stdout"
        }
      ]
    },
    {
      "cell_type": "code",
      "metadata": {
        "id": "L8GwaW3pLXdY",
        "colab_type": "code",
        "colab": {
          "base_uri": "https://localhost:8080/",
          "height": 68
        },
        "outputId": "4ff51536-e232-4652-8161-c9a74f115d41"
      },
      "source": [
        "k+=1\n",
        "(input_seq, actual_output), _ = next(train_gen)\n",
        "decoded_sentence = decode_sequence(input_seq)\n",
        "print('Input English sentence:', X_train[k:k+1].values[0])\n",
        "print('Actual Marathi Translation:', y_train[k:k+1].values[0][6:-4])\n",
        "print('Predicted Marathi Translation:', decoded_sentence[:-4])"
      ],
      "execution_count": 53,
      "outputs": [
        {
          "output_type": "stream",
          "text": [
            "Input English sentence: rapidité\n",
            "Actual Marathi Translation:  wùyìyá wùyɛ̀yɛ́ \n",
            "Predicted Marathi Translation:  lε \n"
          ],
          "name": "stdout"
        }
      ]
    },
    {
      "cell_type": "code",
      "metadata": {
        "id": "jqsMvmd5LXda",
        "colab_type": "code",
        "colab": {
          "base_uri": "https://localhost:8080/",
          "height": 68
        },
        "outputId": "eb10c76e-a385-4b24-8185-c6dccdf9d6bb"
      },
      "source": [
        "k+=1\n",
        "(input_seq, actual_output), _ = next(train_gen)\n",
        "decoded_sentence = decode_sequence(input_seq)\n",
        "print('Input English sentence:', X_train[k:k+1].values[0])\n",
        "print('Actual Marathi Translation:', y_train[k:k+1].values[0][6:-4])\n",
        "print('Predicted Marathi Translation:', decoded_sentence[:-4])"
      ],
      "execution_count": 54,
      "outputs": [
        {
          "output_type": "stream",
          "text": [
            "Input English sentence: depuis il est reste fidèle à sa promesse\n",
            "Actual Marathi Translation:  sin hwenεnu ɔ e nɔ gbeta tɔn ji \n",
            "Predicted Marathi Translation:  azan nabi e nɔ yi azɔmε ɖo gan mε sin ɔ mε \n"
          ],
          "name": "stdout"
        }
      ]
    },
    {
      "cell_type": "code",
      "metadata": {
        "id": "IP_2f1ldLXdj",
        "colab_type": "code",
        "colab": {
          "base_uri": "https://localhost:8080/",
          "height": 68
        },
        "outputId": "8f2819a3-a914-447d-f8be-99ffcce36815"
      },
      "source": [
        "k+=1\n",
        "(input_seq, actual_output), _ = next(train_gen)\n",
        "decoded_sentence = decode_sequence(input_seq)\n",
        "print('Input English sentence:', X_train[k:k+1].values[0])\n",
        "print('Actual Marathi Translation:', y_train[k:k+1].values[0][6:-4])\n",
        "print('Predicted Marathi Translation:', decoded_sentence[:-4])"
      ],
      "execution_count": 55,
      "outputs": [
        {
          "output_type": "stream",
          "text": [
            "Input English sentence: etendre\n",
            "Actual Marathi Translation:  tɛ́ \n",
            "Predicted Marathi Translation:  tɛ́ \n"
          ],
          "name": "stdout"
        }
      ]
    },
    {
      "cell_type": "code",
      "metadata": {
        "id": "IEHh2EcyLXdo",
        "colab_type": "code",
        "colab": {
          "base_uri": "https://localhost:8080/",
          "height": 68
        },
        "outputId": "029d1e40-46b4-420a-ae5b-4690cd776323"
      },
      "source": [
        "k+=1\n",
        "(input_seq, actual_output), _ = next(train_gen)\n",
        "decoded_sentence = decode_sequence(input_seq)\n",
        "print('Input English sentence:', X_train[k:k+1].values[0])\n",
        "print('Actual Marathi Translation:', y_train[k:k+1].values[0][6:-4])\n",
        "print('Predicted Marathi Translation:', decoded_sentence[:-4])"
      ],
      "execution_count": 56,
      "outputs": [
        {
          "output_type": "stream",
          "text": [
            "Input English sentence: il est libre\n",
            "Actual Marathi Translation:  é ɖò é ɖésú’sí \n",
            "Predicted Marathi Translation:  é ɖò nù nŭ wɛ̀ \n"
          ],
          "name": "stdout"
        }
      ]
    },
    {
      "cell_type": "code",
      "metadata": {
        "id": "MZbJCIfoLXdt",
        "colab_type": "code",
        "colab": {
          "base_uri": "https://localhost:8080/",
          "height": 68
        },
        "outputId": "f0fd52fb-9fdf-4cf4-f3b7-1ac27a55a1c9"
      },
      "source": [
        "k+=1\n",
        "(input_seq, actual_output), _ = next(train_gen)\n",
        "decoded_sentence = decode_sequence(input_seq)\n",
        "print('Input English sentence:', X_train[k:k+1].values[0])\n",
        "print('Actual Marathi Translation:', y_train[k:k+1].values[0][6:-4])\n",
        "print('Predicted Marathi Translation:', decoded_sentence[:-4])"
      ],
      "execution_count": 57,
      "outputs": [
        {
          "output_type": "stream",
          "text": [
            "Input English sentence: gros\n",
            "Actual Marathi Translation:  buwùn \n",
            "Predicted Marathi Translation:  ali \n"
          ],
          "name": "stdout"
        }
      ]
    },
    {
      "cell_type": "code",
      "metadata": {
        "id": "xfuOHsxjLXdx",
        "colab_type": "code",
        "colab": {
          "base_uri": "https://localhost:8080/",
          "height": 68
        },
        "outputId": "af5cc7db-58ef-42db-b0f0-d230ce0be8ef"
      },
      "source": [
        "k+=1\n",
        "(input_seq, actual_output), _ = next(train_gen)\n",
        "decoded_sentence = decode_sequence(input_seq)\n",
        "print('Input English sentence:', X_train[k:k+1].values[0])\n",
        "print('Actual Marathi Translation:', y_train[k:k+1].values[0][6:-4])\n",
        "print('Predicted Marathi Translation:', decoded_sentence[:-4])"
      ],
      "execution_count": 58,
      "outputs": [
        {
          "output_type": "stream",
          "text": [
            "Input English sentence: un fils est né au village\n",
            "Actual Marathi Translation:  vi ɖe nyi jiji ɖo gleta \n",
            "Predicted Marathi Translation:  vi ɔ ɖo nu kpɔ \n"
          ],
          "name": "stdout"
        }
      ]
    },
    {
      "cell_type": "code",
      "metadata": {
        "id": "-XakLL59LXd1",
        "colab_type": "code",
        "colab": {
          "base_uri": "https://localhost:8080/",
          "height": 68
        },
        "outputId": "6e0f1bb9-dce0-4ecd-db1a-0b86d1da795f"
      },
      "source": [
        "k+=1\n",
        "(input_seq, actual_output), _ = next(train_gen)\n",
        "decoded_sentence = decode_sequence(input_seq)\n",
        "print('Input English sentence:', X_train[k:k+1].values[0])\n",
        "print('Actual Marathi Translation:', y_train[k:k+1].values[0][6:-4])\n",
        "print('Predicted Marathi Translation:', decoded_sentence[:-4])"
      ],
      "execution_count": 59,
      "outputs": [
        {
          "output_type": "stream",
          "text": [
            "Input English sentence: manchot\n",
            "Actual Marathi Translation:  awagbonɔ̀ \n",
            "Predicted Marathi Translation:  sin \n"
          ],
          "name": "stdout"
        }
      ]
    },
    {
      "cell_type": "code",
      "metadata": {
        "id": "Cd8BPnWwLXd6",
        "colab_type": "code",
        "colab": {
          "base_uri": "https://localhost:8080/",
          "height": 68
        },
        "outputId": "a63a0378-0c56-4f0b-d9b4-4190a3d1792b"
      },
      "source": [
        "k+=1\n",
        "(input_seq, actual_output), _ = next(train_gen)\n",
        "decoded_sentence = decode_sequence(input_seq)\n",
        "print('Input English sentence:', X_train[k:k+1].values[0])\n",
        "print('Actual Marathi Translation:', y_train[k:k+1].values[0][6:-4])\n",
        "print('Predicted Marathi Translation:', decoded_sentence[:-4])"
      ],
      "execution_count": 60,
      "outputs": [
        {
          "output_type": "stream",
          "text": [
            "Input English sentence: devenir\n",
            "Actual Marathi Translation:  zùn \n",
            "Predicted Marathi Translation:  hu \n"
          ],
          "name": "stdout"
        }
      ]
    },
    {
      "cell_type": "code",
      "metadata": {
        "id": "JAbSIiCGLXd-",
        "colab_type": "code",
        "colab": {
          "base_uri": "https://localhost:8080/",
          "height": 68
        },
        "outputId": "bdce4987-59b0-4d99-e915-55f72a20c05a"
      },
      "source": [
        "k+=1\n",
        "(input_seq, actual_output), _ = next(train_gen)\n",
        "decoded_sentence = decode_sequence(input_seq)\n",
        "print('Input English sentence:', X_train[k:k+1].values[0])\n",
        "print('Actual Marathi Translation:', y_train[k:k+1].values[0][6:-4])\n",
        "print('Predicted Marathi Translation:', decoded_sentence[:-4])"
      ],
      "execution_count": 61,
      "outputs": [
        {
          "output_type": "stream",
          "text": [
            "Input English sentence: quelque chose\n",
            "Actual Marathi Translation:  nù tí \n",
            "Predicted Marathi Translation:  nɛ́ \n"
          ],
          "name": "stdout"
        }
      ]
    },
    {
      "cell_type": "code",
      "metadata": {
        "id": "n4FpDPOeLXeB",
        "colab_type": "code",
        "colab": {
          "base_uri": "https://localhost:8080/",
          "height": 68
        },
        "outputId": "43a5ec2c-53fa-4454-c9c0-3ad9074c1c51"
      },
      "source": [
        "k+=1\n",
        "(input_seq, actual_output), _ = next(train_gen)\n",
        "decoded_sentence = decode_sequence(input_seq)\n",
        "print('Input English sentence:', X_train[k:k+1].values[0])\n",
        "print('Actual Marathi Translation:', y_train[k:k+1].values[0][6:-4])\n",
        "print('Predicted Marathi Translation:', decoded_sentence[:-4])"
      ],
      "execution_count": 62,
      "outputs": [
        {
          "output_type": "stream",
          "text": [
            "Input English sentence: il est réveillé depuis trois heures\n",
            "Actual Marathi Translation:  e fɔn sin gan xixo atɔn ɖie \n",
            "Predicted Marathi Translation:  e ɖo xwe atɔn gan ɖokpo \n"
          ],
          "name": "stdout"
        }
      ]
    },
    {
      "cell_type": "code",
      "metadata": {
        "id": "J80MCwE6LXeD",
        "colab_type": "code",
        "colab": {
          "base_uri": "https://localhost:8080/",
          "height": 68
        },
        "outputId": "c48019c1-7da3-48dc-ac7c-7090686ad0e7"
      },
      "source": [
        "k+=1\n",
        "(input_seq, actual_output), _ = next(train_gen)\n",
        "decoded_sentence = decode_sequence(input_seq)\n",
        "print('Input English sentence:', X_train[k:k+1].values[0])\n",
        "print('Actual Marathi Translation:', y_train[k:k+1].values[0][6:-4])\n",
        "print('Predicted Marathi Translation:', decoded_sentence[:-4])"
      ],
      "execution_count": 63,
      "outputs": [
        {
          "output_type": "stream",
          "text": [
            "Input English sentence: des ouvriers patients\n",
            "Actual Marathi Translation:  azɔwatɔ sɔxwetɔ ɖe lɛ \n",
            "Predicted Marathi Translation:  e nɔ se myɔ kpεvi \n"
          ],
          "name": "stdout"
        }
      ]
    },
    {
      "cell_type": "code",
      "metadata": {
        "id": "8qBF_phVLXeH",
        "colab_type": "code",
        "colab": {
          "base_uri": "https://localhost:8080/",
          "height": 68
        },
        "outputId": "42108b48-d00d-4c91-f178-3ee454c57e59"
      },
      "source": [
        "k+=1\n",
        "(input_seq, actual_output), _ = next(train_gen)\n",
        "decoded_sentence = decode_sequence(input_seq)\n",
        "print('Input English sentence:', X_train[k:k+1].values[0])\n",
        "print('Actual Marathi Translation:', y_train[k:k+1].values[0][6:-4])\n",
        "print('Predicted Marathi Translation:', decoded_sentence[:-4])"
      ],
      "execution_count": 64,
      "outputs": [
        {
          "output_type": "stream",
          "text": [
            "Input English sentence: solide\n",
            "Actual Marathi Translation:  gagogago \n",
            "Predicted Marathi Translation:  fún \n"
          ],
          "name": "stdout"
        }
      ]
    },
    {
      "cell_type": "code",
      "metadata": {
        "id": "BKzNy6jCLXeL",
        "colab_type": "code",
        "colab": {
          "base_uri": "https://localhost:8080/",
          "height": 68
        },
        "outputId": "7676efca-3a18-4bd3-ac21-26ff7b176026"
      },
      "source": [
        "k+=1\n",
        "(input_seq, actual_output), _ = next(train_gen)\n",
        "decoded_sentence = decode_sequence(input_seq)\n",
        "print('Input English sentence:', X_train[k:k+1].values[0])\n",
        "print('Actual Marathi Translation:', y_train[k:k+1].values[0][6:-4])\n",
        "print('Predicted Marathi Translation:', decoded_sentence[:-4])"
      ],
      "execution_count": 65,
      "outputs": [
        {
          "output_type": "stream",
          "text": [
            "Input English sentence: les moissonneurs sont allongés à l’ombre d’un arbre\n",
            "Actual Marathi Translation:  jinukunyatɔ lε dlεn yeɖe ɖo yεtεn atin ɖe sa \n",
            "Predicted Marathi Translation:  folo lε ɖo ama da lɛ lɛ \n"
          ],
          "name": "stdout"
        }
      ]
    },
    {
      "cell_type": "code",
      "metadata": {
        "id": "p8qRKja0LXeN",
        "colab_type": "code",
        "colab": {
          "base_uri": "https://localhost:8080/",
          "height": 68
        },
        "outputId": "243e550d-f119-4270-8e75-2f1829c6d85b"
      },
      "source": [
        "k+=1\n",
        "(input_seq, actual_output), _ = next(train_gen)\n",
        "decoded_sentence = decode_sequence(input_seq)\n",
        "print('Input English sentence:', X_train[k:k+1].values[0])\n",
        "print('Actual Marathi Translation:', y_train[k:k+1].values[0][6:-4])\n",
        "print('Predicted Marathi Translation:', decoded_sentence[:-4])"
      ],
      "execution_count": 66,
      "outputs": [
        {
          "output_type": "stream",
          "text": [
            "Input English sentence: nom de garçon né le jeudi\n",
            "Actual Marathi Translation:  kɔoví \n",
            "Predicted Marathi Translation:  ye \n"
          ],
          "name": "stdout"
        }
      ]
    },
    {
      "cell_type": "code",
      "metadata": {
        "id": "ijCUrZF2LXeQ",
        "colab_type": "code",
        "colab": {
          "base_uri": "https://localhost:8080/",
          "height": 68
        },
        "outputId": "219b36b2-7319-4a34-cc62-2b98c6c0f2bf"
      },
      "source": [
        "k+=1\n",
        "(input_seq, actual_output), _ = next(train_gen)\n",
        "decoded_sentence = decode_sequence(input_seq)\n",
        "print('Input English sentence:', X_train[k:k+1].values[0])\n",
        "print('Actual Marathi Translation:', y_train[k:k+1].values[0][6:-4])\n",
        "print('Predicted Marathi Translation:', decoded_sentence[:-4])"
      ],
      "execution_count": 67,
      "outputs": [
        {
          "output_type": "stream",
          "text": [
            "Input English sentence: a une autre fois\n",
            "Actual Marathi Translation:  e sù hweɖénu \n",
            "Predicted Marathi Translation:  e ɖo zɔnlin ji wɛ \n"
          ],
          "name": "stdout"
        }
      ]
    },
    {
      "cell_type": "code",
      "metadata": {
        "id": "aOCv3QHbLXeS",
        "colab_type": "code",
        "colab": {
          "base_uri": "https://localhost:8080/",
          "height": 68
        },
        "outputId": "a38059aa-575c-4a91-dcab-b55b02d91baf"
      },
      "source": [
        "k+=1\n",
        "(input_seq, actual_output), _ = next(train_gen)\n",
        "decoded_sentence = decode_sequence(input_seq)\n",
        "print('Input English sentence:', X_train[k:k+1].values[0])\n",
        "print('Actual Marathi Translation:', y_train[k:k+1].values[0][6:-4])\n",
        "print('Predicted Marathi Translation:', decoded_sentence[:-4])"
      ],
      "execution_count": 68,
      "outputs": [
        {
          "output_type": "stream",
          "text": [
            "Input English sentence: avec insistance\n",
            "Actual Marathi Translation:  tlítlí \n",
            "Predicted Marathi Translation:  kpodo kuku ɖokpo \n"
          ],
          "name": "stdout"
        }
      ]
    },
    {
      "cell_type": "code",
      "metadata": {
        "id": "qByafDDoLXek",
        "colab_type": "code",
        "colab": {
          "base_uri": "https://localhost:8080/",
          "height": 68
        },
        "outputId": "99a82e9d-2de9-42cb-b531-d123c7a7fcda"
      },
      "source": [
        "k+=1\n",
        "(input_seq, actual_output), _ = next(train_gen)\n",
        "decoded_sentence = decode_sequence(input_seq)\n",
        "print('Input English sentence:', X_train[k:k+1].values[0])\n",
        "print('Actual Marathi Translation:', y_train[k:k+1].values[0][6:-4])\n",
        "print('Predicted Marathi Translation:', decoded_sentence[:-4])"
      ],
      "execution_count": 69,
      "outputs": [
        {
          "output_type": "stream",
          "text": [
            "Input English sentence: quel jour de marché estce aujourdhui\n",
            "Actual Marathi Translation:  axitεgbe wε nyi egbe \n",
            "Predicted Marathi Translation:  xwe nabi mε nyi ɖo fi \n"
          ],
          "name": "stdout"
        }
      ]
    },
    {
      "cell_type": "code",
      "metadata": {
        "id": "coI4oVoaLXeo",
        "colab_type": "code",
        "colab": {
          "base_uri": "https://localhost:8080/",
          "height": 68
        },
        "outputId": "d10ce40e-0801-44b6-cbcf-847616dd9e1f"
      },
      "source": [
        "k+=1\n",
        "(input_seq, actual_output), _ = next(train_gen)\n",
        "decoded_sentence = decode_sequence(input_seq)\n",
        "print('Input English sentence:', X_train[k:k+1].values[0])\n",
        "print('Actual Marathi Translation:', y_train[k:k+1].values[0][6:-4])\n",
        "print('Predicted Marathi Translation:', decoded_sentence[:-4])"
      ],
      "execution_count": 70,
      "outputs": [
        {
          "output_type": "stream",
          "text": [
            "Input English sentence: tu gâtes trop ton enfant\n",
            "Actual Marathi Translation:  a nɔ kɛ́ vì tówé dín \n",
            "Predicted Marathi Translation:  a nɔ gbɛ́ nukún tɔ́n lɛ́ bĭ \n"
          ],
          "name": "stdout"
        }
      ]
    },
    {
      "cell_type": "code",
      "metadata": {
        "id": "PDxyDD9ALXes",
        "colab_type": "code",
        "colab": {
          "base_uri": "https://localhost:8080/",
          "height": 68
        },
        "outputId": "c231ef6d-87ed-485f-eea5-ffce2d513583"
      },
      "source": [
        "k+=1\n",
        "(input_seq, actual_output), _ = next(train_gen)\n",
        "decoded_sentence = decode_sequence(input_seq)\n",
        "print('Input English sentence:', X_train[k:k+1].values[0])\n",
        "print('Actual Marathi Translation:', y_train[k:k+1].values[0][6:-4])\n",
        "print('Predicted Marathi Translation:', decoded_sentence[:-4])"
      ],
      "execution_count": 71,
      "outputs": [
        {
          "output_type": "stream",
          "text": [
            "Input English sentence: combien dargent te faudratil\n",
            "Actual Marathi Translation:  akwɛ́ nabí ká ná kpé wè \n",
            "Predicted Marathi Translation:  nabi a na mɔ ɖo fi elɔ \n"
          ],
          "name": "stdout"
        }
      ]
    },
    {
      "cell_type": "code",
      "metadata": {
        "id": "tmqIIgshLXeu",
        "colab_type": "code",
        "colab": {
          "base_uri": "https://localhost:8080/",
          "height": 68
        },
        "outputId": "a1876b0d-f08b-443e-908c-c6963a82d54c"
      },
      "source": [
        "k+=1\n",
        "(input_seq, actual_output), _ = next(train_gen)\n",
        "decoded_sentence = decode_sequence(input_seq)\n",
        "print('Input English sentence:', X_train[k:k+1].values[0])\n",
        "print('Actual Marathi Translation:', y_train[k:k+1].values[0][6:-4])\n",
        "print('Predicted Marathi Translation:', decoded_sentence[:-4])"
      ],
      "execution_count": 72,
      "outputs": [
        {
          "output_type": "stream",
          "text": [
            "Input English sentence: il obéit toujours à son instituteur\n",
            "Actual Marathi Translation:  e nɔ se to nu nu mɛsi tɔn \n",
            "Predicted Marathi Translation:  e nɔ wazɔ nu ye gɔn \n"
          ],
          "name": "stdout"
        }
      ]
    },
    {
      "cell_type": "code",
      "metadata": {
        "id": "kdiDZuGeLXex",
        "colab_type": "code",
        "colab": {
          "base_uri": "https://localhost:8080/",
          "height": 68
        },
        "outputId": "4c31afc0-7896-4062-8e49-941e4e20407f"
      },
      "source": [
        "k+=1\n",
        "(input_seq, actual_output), _ = next(train_gen)\n",
        "decoded_sentence = decode_sequence(input_seq)\n",
        "print('Input English sentence:', X_train[k:k+1].values[0])\n",
        "print('Actual Marathi Translation:', y_train[k:k+1].values[0][6:-4])\n",
        "print('Predicted Marathi Translation:', decoded_sentence[:-4])"
      ],
      "execution_count": 73,
      "outputs": [
        {
          "output_type": "stream",
          "text": [
            "Input English sentence: maintenant et à lheure de notre mort\n",
            "Actual Marathi Translation:  din kpodo kuhwenu mitɔn kpan \n",
            "Predicted Marathi Translation:  din kpodo kpɔ bo na mɔ mɔ mɛ ɔ \n"
          ],
          "name": "stdout"
        }
      ]
    },
    {
      "cell_type": "code",
      "metadata": {
        "id": "Mp04CP7aLXez",
        "colab_type": "code",
        "colab": {
          "base_uri": "https://localhost:8080/",
          "height": 68
        },
        "outputId": "71f78427-4941-4a20-dd10-c8f906033c93"
      },
      "source": [
        "k+=1\n",
        "(input_seq, actual_output), _ = next(train_gen)\n",
        "decoded_sentence = decode_sequence(input_seq)\n",
        "print('Input English sentence:', X_train[k:k+1].values[0])\n",
        "print('Actual Marathi Translation:', y_train[k:k+1].values[0][6:-4])\n",
        "print('Predicted Marathi Translation:', decoded_sentence[:-4])"
      ],
      "execution_count": 74,
      "outputs": [
        {
          "output_type": "stream",
          "text": [
            "Input English sentence: si j’ai peur je me sauve\n",
            "Actual Marathi Translation:  nu xɛsi ɖi mi ɔ na ɖido \n",
            "Predicted Marathi Translation:  nu un nɔ ɔ mi ɖɔ nuti \n"
          ],
          "name": "stdout"
        }
      ]
    },
    {
      "cell_type": "code",
      "metadata": {
        "id": "MgI579xcLXe3",
        "colab_type": "code",
        "colab": {
          "base_uri": "https://localhost:8080/",
          "height": 68
        },
        "outputId": "8a572d59-d9df-4383-f25d-c7dc246386f3"
      },
      "source": [
        "k+=1\n",
        "(input_seq, actual_output), _ = next(train_gen)\n",
        "decoded_sentence = decode_sequence(input_seq)\n",
        "print('Input English sentence:', X_train[k:k+1].values[0])\n",
        "print('Actual Marathi Translation:', y_train[k:k+1].values[0][6:-4])\n",
        "print('Predicted Marathi Translation:', decoded_sentence[:-4])"
      ],
      "execution_count": 75,
      "outputs": [
        {
          "output_type": "stream",
          "text": [
            "Input English sentence: ils sont sérieusement au travail\n",
            "Actual Marathi Translation:  yĕ ɖ’àzɔ̀ wú kútúkútú \n",
            "Predicted Marathi Translation:  yè nɔ́ mεsi dó ye \n"
          ],
          "name": "stdout"
        }
      ]
    },
    {
      "cell_type": "code",
      "metadata": {
        "id": "DRGpf_uvLXe8",
        "colab_type": "code",
        "colab": {
          "base_uri": "https://localhost:8080/",
          "height": 68
        },
        "outputId": "a6c4db8c-62b2-4760-bbab-75a57854656e"
      },
      "source": [
        "k+=1\n",
        "(input_seq, actual_output), _ = next(train_gen)\n",
        "decoded_sentence = decode_sequence(input_seq)\n",
        "print('Input English sentence:', X_train[k:k+1].values[0])\n",
        "print('Actual Marathi Translation:', y_train[k:k+1].values[0][6:-4])\n",
        "print('Predicted Marathi Translation:', decoded_sentence[:-4])"
      ],
      "execution_count": 76,
      "outputs": [
        {
          "output_type": "stream",
          "text": [
            "Input English sentence: certains oiseaux mangent du poisson cru\n",
            "Actual Marathi Translation:  xɛvi ɖe lɛ nɔ ɖu hwevi mu \n",
            "Predicted Marathi Translation:  xεvi lε nɔ ɖu ganji \n"
          ],
          "name": "stdout"
        }
      ]
    },
    {
      "cell_type": "code",
      "metadata": {
        "id": "Y8Gd5GW-LXfD",
        "colab_type": "code",
        "colab": {
          "base_uri": "https://localhost:8080/",
          "height": 68
        },
        "outputId": "13b66b41-1003-48c2-ea15-c046bed9e836"
      },
      "source": [
        "k+=1\n",
        "(input_seq, actual_output), _ = next(train_gen)\n",
        "decoded_sentence = decode_sequence(input_seq)\n",
        "print('Input English sentence:', X_train[k:k+1].values[0])\n",
        "print('Actual Marathi Translation:', y_train[k:k+1].values[0][6:-4])\n",
        "print('Predicted Marathi Translation:', decoded_sentence[:-4])"
      ],
      "execution_count": 77,
      "outputs": [
        {
          "output_type": "stream",
          "text": [
            "Input English sentence: cest trop blanc\n",
            "Actual Marathi Translation:  e we faan \n",
            "Predicted Marathi Translation:  e we blo \n"
          ],
          "name": "stdout"
        }
      ]
    },
    {
      "cell_type": "code",
      "metadata": {
        "id": "mTT2ygTsLXfH",
        "colab_type": "code",
        "colab": {
          "base_uri": "https://localhost:8080/",
          "height": 68
        },
        "outputId": "08f4167a-55b8-4b9e-f79f-d24540cf3018"
      },
      "source": [
        "k+=1\n",
        "(input_seq, actual_output), _ = next(train_gen)\n",
        "decoded_sentence = decode_sequence(input_seq)\n",
        "print('Input English sentence:', X_train[k:k+1].values[0])\n",
        "print('Actual Marathi Translation:', y_train[k:k+1].values[0][6:-4])\n",
        "print('Predicted Marathi Translation:', decoded_sentence[:-4])"
      ],
      "execution_count": 78,
      "outputs": [
        {
          "output_type": "stream",
          "text": [
            "Input English sentence: la chaise du professeur\n",
            "Actual Marathi Translation:  azinkpo nukplɔnmɛtɔ tɔn \n",
            "Predicted Marathi Translation:  agban bu \n"
          ],
          "name": "stdout"
        }
      ]
    },
    {
      "cell_type": "code",
      "metadata": {
        "id": "ELGgzflyLXfL",
        "colab_type": "code",
        "colab": {
          "base_uri": "https://localhost:8080/",
          "height": 68
        },
        "outputId": "440dec36-cc3e-4121-c80e-83d010dd567f"
      },
      "source": [
        "k+=1\n",
        "(input_seq, actual_output), _ = next(train_gen)\n",
        "decoded_sentence = decode_sequence(input_seq)\n",
        "print('Input English sentence:', X_train[k:k+1].values[0])\n",
        "print('Actual Marathi Translation:', y_train[k:k+1].values[0][6:-4])\n",
        "print('Predicted Marathi Translation:', decoded_sentence[:-4])"
      ],
      "execution_count": 79,
      "outputs": [
        {
          "output_type": "stream",
          "text": [
            "Input English sentence: vipère à cornes\n",
            "Actual Marathi Translation:  amakpwɛ̀ \n",
            "Predicted Marathi Translation:  ɔ azɔmɛ \n"
          ],
          "name": "stdout"
        }
      ]
    },
    {
      "cell_type": "code",
      "metadata": {
        "id": "TfHpuhrZLXfO",
        "colab_type": "code",
        "colab": {
          "base_uri": "https://localhost:8080/",
          "height": 68
        },
        "outputId": "c5aa6b04-4b2d-4ae6-cf8f-af61f06b6ecd"
      },
      "source": [
        "k+=1\n",
        "(input_seq, actual_output), _ = next(train_gen)\n",
        "decoded_sentence = decode_sequence(input_seq)\n",
        "print('Input English sentence:', X_train[k:k+1].values[0])\n",
        "print('Actual Marathi Translation:', y_train[k:k+1].values[0][6:-4])\n",
        "print('Predicted Marathi Translation:', decoded_sentence[:-4])"
      ],
      "execution_count": 80,
      "outputs": [
        {
          "output_type": "stream",
          "text": [
            "Input English sentence: mon coeur tressaille de peur\n",
            "Actual Marathi Translation:  hùn cé kɛ̀ \n",
            "Predicted Marathi Translation:  awu ce gblé \n"
          ],
          "name": "stdout"
        }
      ]
    },
    {
      "cell_type": "code",
      "metadata": {
        "id": "qK0aSIHULXfQ",
        "colab_type": "code",
        "colab": {
          "base_uri": "https://localhost:8080/",
          "height": 68
        },
        "outputId": "82df3645-a0b2-44c4-9cd6-72f885c8c1f6"
      },
      "source": [
        "k+=1\n",
        "(input_seq, actual_output), _ = next(train_gen)\n",
        "decoded_sentence = decode_sequence(input_seq)\n",
        "print('Input English sentence:', X_train[k:k+1].values[0])\n",
        "print('Actual Marathi Translation:', y_train[k:k+1].values[0][6:-4])\n",
        "print('Predicted Marathi Translation:', decoded_sentence[:-4])"
      ],
      "execution_count": 81,
      "outputs": [
        {
          "output_type": "stream",
          "text": [
            "Input English sentence: prévision\n",
            "Actual Marathi Translation:  nùnywɛ́ɖáyĭ \n",
            "Predicted Marathi Translation:  mε \n"
          ],
          "name": "stdout"
        }
      ]
    },
    {
      "cell_type": "code",
      "metadata": {
        "id": "koJXoDbsLXfS",
        "colab_type": "code",
        "colab": {
          "base_uri": "https://localhost:8080/",
          "height": 68
        },
        "outputId": "18a5fb46-edb9-4d41-e364-6c3b3d108ff1"
      },
      "source": [
        "k+=1\n",
        "(input_seq, actual_output), _ = next(train_gen)\n",
        "decoded_sentence = decode_sequence(input_seq)\n",
        "print('Input English sentence:', X_train[k:k+1].values[0])\n",
        "print('Actual Marathi Translation:', y_train[k:k+1].values[0][6:-4])\n",
        "print('Predicted Marathi Translation:', decoded_sentence[:-4])"
      ],
      "execution_count": 82,
      "outputs": [
        {
          "output_type": "stream",
          "text": [
            "Input English sentence: ils ont bu de leau\n",
            "Actual Marathi Translation:  ye nu sin \n",
            "Predicted Marathi Translation:  ye ɖo xɔ nu wε \n"
          ],
          "name": "stdout"
        }
      ]
    },
    {
      "cell_type": "code",
      "metadata": {
        "id": "oSEoMefYLXfW",
        "colab_type": "code",
        "colab": {
          "base_uri": "https://localhost:8080/",
          "height": 68
        },
        "outputId": "c3592898-8de7-4d5c-bffa-52350ef800ef"
      },
      "source": [
        "k+=1\n",
        "(input_seq, actual_output), _ = next(train_gen)\n",
        "decoded_sentence = decode_sequence(input_seq)\n",
        "print('Input English sentence:', X_train[k:k+1].values[0])\n",
        "print('Actual Marathi Translation:', y_train[k:k+1].values[0][6:-4])\n",
        "print('Predicted Marathi Translation:', decoded_sentence[:-4])"
      ],
      "execution_count": 83,
      "outputs": [
        {
          "output_type": "stream",
          "text": [
            "Input English sentence: l’infirmière guérit les malades\n",
            "Actual Marathi Translation:  doto ɔ ɖo azɔn gbɔ nu azizonnɔ lɛ wɛ \n",
            "Predicted Marathi Translation:  azinzɔnnɔ ɔ ɖo gbɔ nu nu azizonnɔ lε wε a \n"
          ],
          "name": "stdout"
        }
      ]
    },
    {
      "cell_type": "code",
      "metadata": {
        "id": "lCkSebIxLXfY",
        "colab_type": "code",
        "colab": {
          "base_uri": "https://localhost:8080/",
          "height": 68
        },
        "outputId": "d3f12065-5ae3-4378-98bb-a43853762291"
      },
      "source": [
        "k+=1\n",
        "(input_seq, actual_output), _ = next(train_gen)\n",
        "decoded_sentence = decode_sequence(input_seq)\n",
        "print('Input English sentence:', X_train[k:k+1].values[0])\n",
        "print('Actual Marathi Translation:', y_train[k:k+1].values[0][6:-4])\n",
        "print('Predicted Marathi Translation:', decoded_sentence[:-4])"
      ],
      "execution_count": 84,
      "outputs": [
        {
          "output_type": "stream",
          "text": [
            "Input English sentence: je veux seulement en fumer une\n",
            "Actual Marathi Translation:  ɖokpo jε un nɔ jlo na nu \n",
            "Predicted Marathi Translation:  un nɔ wa fi a ɖo gan atɔɔn \n"
          ],
          "name": "stdout"
        }
      ]
    },
    {
      "cell_type": "code",
      "metadata": {
        "id": "XmMmbu9KLXfb",
        "colab_type": "code",
        "colab": {
          "base_uri": "https://localhost:8080/",
          "height": 68
        },
        "outputId": "3fdc2961-2837-4b74-9dae-d057c6408714"
      },
      "source": [
        "k+=1\n",
        "(input_seq, actual_output), _ = next(train_gen)\n",
        "decoded_sentence = decode_sequence(input_seq)\n",
        "print('Input English sentence:', X_train[k:k+1].values[0])\n",
        "print('Actual Marathi Translation:', y_train[k:k+1].values[0][6:-4])\n",
        "print('Predicted Marathi Translation:', decoded_sentence[:-4])"
      ],
      "execution_count": 85,
      "outputs": [
        {
          "output_type": "stream",
          "text": [
            "Input English sentence: le dieu sème la richesse\n",
            "Actual Marathi Translation:  dan nɔ do nu nu mε \n",
            "Predicted Marathi Translation:  nyɔnu ɖokpo ɖo na tɔn wε \n"
          ],
          "name": "stdout"
        }
      ]
    },
    {
      "cell_type": "code",
      "metadata": {
        "id": "vTvepsObLXfd",
        "colab_type": "code",
        "colab": {
          "base_uri": "https://localhost:8080/",
          "height": 68
        },
        "outputId": "c7b079b8-eacf-4fb1-e7db-86aa38137d0e"
      },
      "source": [
        "k+=1\n",
        "(input_seq, actual_output), _ = next(train_gen)\n",
        "decoded_sentence = decode_sequence(input_seq)\n",
        "print('Input English sentence:', X_train[k:k+1].values[0])\n",
        "print('Actual Marathi Translation:', y_train[k:k+1].values[0][6:-4])\n",
        "print('Predicted Marathi Translation:', decoded_sentence[:-4])"
      ],
      "execution_count": 86,
      "outputs": [
        {
          "output_type": "stream",
          "text": [
            "Input English sentence: il sappelle kossi\n",
            "Actual Marathi Translation:  e nɔ ylɔ́ ɛ́ ɖɔ̀ kɔsí \n",
            "Predicted Marathi Translation:  e nɔ nyi zɔnlin ɖi mɛ à \n"
          ],
          "name": "stdout"
        }
      ]
    },
    {
      "cell_type": "code",
      "metadata": {
        "id": "9eYBW9H_LXff",
        "colab_type": "code",
        "colab": {
          "base_uri": "https://localhost:8080/",
          "height": 68
        },
        "outputId": "271b7416-1f89-49e9-9b21-98e7fc30ddc5"
      },
      "source": [
        "k+=1\n",
        "(input_seq, actual_output), _ = next(train_gen)\n",
        "decoded_sentence = decode_sequence(input_seq)\n",
        "print('Input English sentence:', X_train[k:k+1].values[0])\n",
        "print('Actual Marathi Translation:', y_train[k:k+1].values[0][6:-4])\n",
        "print('Predicted Marathi Translation:', decoded_sentence[:-4])"
      ],
      "execution_count": 87,
      "outputs": [
        {
          "output_type": "stream",
          "text": [
            "Input English sentence: estce que je peux passer prendre ma voiture demain soir\n",
            "Actual Marathi Translation:  un hεn ɔ na wa ze mɔto ce sɔ gbadanu a \n",
            "Predicted Marathi Translation:  un na ɔ sɔ ɖo azɔ enε ɔ a ɖe a ɖo na ko \n"
          ],
          "name": "stdout"
        }
      ]
    },
    {
      "cell_type": "code",
      "metadata": {
        "id": "nSHBmk12LXfh",
        "colab_type": "code",
        "colab": {
          "base_uri": "https://localhost:8080/",
          "height": 68
        },
        "outputId": "56291da6-f25c-4b4f-827f-842472b596c7"
      },
      "source": [
        "k+=1\n",
        "(input_seq, actual_output), _ = next(train_gen)\n",
        "decoded_sentence = decode_sequence(input_seq)\n",
        "print('Input English sentence:', X_train[k:k+1].values[0])\n",
        "print('Actual Marathi Translation:', y_train[k:k+1].values[0][6:-4])\n",
        "print('Predicted Marathi Translation:', decoded_sentence[:-4])"
      ],
      "execution_count": 88,
      "outputs": [
        {
          "output_type": "stream",
          "text": [
            "Input English sentence: voici de la sauce de gombo\n",
            "Actual Marathi Translation:  fevi nusunnu ɖie \n",
            "Predicted Marathi Translation:  kpodo kanlinnyitɔ \n"
          ],
          "name": "stdout"
        }
      ]
    },
    {
      "cell_type": "code",
      "metadata": {
        "id": "6lECz_01LXfk",
        "colab_type": "code",
        "colab": {
          "base_uri": "https://localhost:8080/",
          "height": 68
        },
        "outputId": "03e4fbb4-483e-4043-b2ae-10e89d7d16a8"
      },
      "source": [
        "k+=1\n",
        "(input_seq, actual_output), _ = next(train_gen)\n",
        "decoded_sentence = decode_sequence(input_seq)\n",
        "print('Input English sentence:', X_train[k:k+1].values[0])\n",
        "print('Actual Marathi Translation:', y_train[k:k+1].values[0][6:-4])\n",
        "print('Predicted Marathi Translation:', decoded_sentence[:-4])"
      ],
      "execution_count": 89,
      "outputs": [
        {
          "output_type": "stream",
          "text": [
            "Input English sentence: libre\n",
            "Actual Marathi Translation:  faà \n",
            "Predicted Marathi Translation:  ɖo \n"
          ],
          "name": "stdout"
        }
      ]
    },
    {
      "cell_type": "code",
      "metadata": {
        "id": "mAtvkP7lLXfm",
        "colab_type": "code",
        "colab": {
          "base_uri": "https://localhost:8080/",
          "height": 68
        },
        "outputId": "caa14bef-81bd-4faa-a340-ddc2739054ce"
      },
      "source": [
        "k+=1\n",
        "(input_seq, actual_output), _ = next(train_gen)\n",
        "decoded_sentence = decode_sequence(input_seq)\n",
        "print('Input English sentence:', X_train[k:k+1].values[0])\n",
        "print('Actual Marathi Translation:', y_train[k:k+1].values[0][6:-4])\n",
        "print('Predicted Marathi Translation:', decoded_sentence[:-4])"
      ],
      "execution_count": 90,
      "outputs": [
        {
          "output_type": "stream",
          "text": [
            "Input English sentence: il est monté sur la montagne\n",
            "Actual Marathi Translation:  e xa so ji \n",
            "Predicted Marathi Translation:  e ɖo so ji \n"
          ],
          "name": "stdout"
        }
      ]
    },
    {
      "cell_type": "code",
      "metadata": {
        "id": "bgJb6uHXLXfs",
        "colab_type": "code",
        "colab": {
          "base_uri": "https://localhost:8080/",
          "height": 68
        },
        "outputId": "6628f774-b644-4a00-8224-aee5b39b91ec"
      },
      "source": [
        "k+=1\n",
        "(input_seq, actual_output), _ = next(train_gen)\n",
        "decoded_sentence = decode_sequence(input_seq)\n",
        "print('Input English sentence:', X_train[k:k+1].values[0])\n",
        "print('Actual Marathi Translation:', y_train[k:k+1].values[0][6:-4])\n",
        "print('Predicted Marathi Translation:', decoded_sentence[:-4])"
      ],
      "execution_count": 91,
      "outputs": [
        {
          "output_type": "stream",
          "text": [
            "Input English sentence: difficile\n",
            "Actual Marathi Translation:  gɛ̀dɛ̀gɛ́dɛ́ \n",
            "Predicted Marathi Translation:  a \n"
          ],
          "name": "stdout"
        }
      ]
    },
    {
      "cell_type": "code",
      "metadata": {
        "id": "OFGxIwUrLXfv",
        "colab_type": "code",
        "colab": {
          "base_uri": "https://localhost:8080/",
          "height": 68
        },
        "outputId": "899ce752-def5-444e-b667-01a9be0d1e76"
      },
      "source": [
        "k+=1\n",
        "(input_seq, actual_output), _ = next(train_gen)\n",
        "decoded_sentence = decode_sequence(input_seq)\n",
        "print('Input English sentence:', X_train[k:k+1].values[0])\n",
        "print('Actual Marathi Translation:', y_train[k:k+1].values[0][6:-4])\n",
        "print('Predicted Marathi Translation:', decoded_sentence[:-4])"
      ],
      "execution_count": 92,
      "outputs": [
        {
          "output_type": "stream",
          "text": [
            "Input English sentence: il faut courber la tête pour passer sous cette porte\n",
            "Actual Marathi Translation:  e ɖo na do ta do bo na gbɔn hɔn enε ɔ gwlε \n",
            "Predicted Marathi Translation:  e na na lan bo na ɖu atin tɔn \n"
          ],
          "name": "stdout"
        }
      ]
    },
    {
      "cell_type": "code",
      "metadata": {
        "id": "klFmTm6tLXfx",
        "colab_type": "code",
        "colab": {
          "base_uri": "https://localhost:8080/",
          "height": 68
        },
        "outputId": "999ffb7b-b1a9-4289-e862-162d5e7a6a19"
      },
      "source": [
        "k+=1\n",
        "(input_seq, actual_output), _ = next(train_gen)\n",
        "decoded_sentence = decode_sequence(input_seq)\n",
        "print('Input English sentence:', X_train[k:k+1].values[0])\n",
        "print('Actual Marathi Translation:', y_train[k:k+1].values[0][6:-4])\n",
        "print('Predicted Marathi Translation:', decoded_sentence[:-4])"
      ],
      "execution_count": 93,
      "outputs": [
        {
          "output_type": "stream",
          "text": [
            "Input English sentence: je mange avec la bouche\n",
            "Actual Marathi Translation:  un nɔ ɖu nu kpodo nu ce kpo \n",
            "Predicted Marathi Translation:  un nɔ do nu kpodo xwe atɔɔn \n"
          ],
          "name": "stdout"
        }
      ]
    },
    {
      "cell_type": "code",
      "metadata": {
        "id": "qUvJM4tgLXfz",
        "colab_type": "code",
        "colab": {
          "base_uri": "https://localhost:8080/",
          "height": 68
        },
        "outputId": "0d3a0b89-9c57-4088-960d-6fb216e09912"
      },
      "source": [
        "k+=1\n",
        "(input_seq, actual_output), _ = next(train_gen)\n",
        "decoded_sentence = decode_sequence(input_seq)\n",
        "print('Input English sentence:', X_train[k:k+1].values[0])\n",
        "print('Actual Marathi Translation:', y_train[k:k+1].values[0][6:-4])\n",
        "print('Predicted Marathi Translation:', decoded_sentence[:-4])"
      ],
      "execution_count": 94,
      "outputs": [
        {
          "output_type": "stream",
          "text": [
            "Input English sentence: je viens de covè\n",
            "Actual Marathi Translation:  un wa sín kɔ́vɛ̀ \n",
            "Predicted Marathi Translation:  un xɔ dó wè \n"
          ],
          "name": "stdout"
        }
      ]
    },
    {
      "cell_type": "code",
      "metadata": {
        "id": "wUhs51JpLXf1",
        "colab_type": "code",
        "colab": {
          "base_uri": "https://localhost:8080/",
          "height": 68
        },
        "outputId": "4c557a03-ad50-48cb-e010-cc9e932ef3fd"
      },
      "source": [
        "k+=1\n",
        "(input_seq, actual_output), _ = next(train_gen)\n",
        "decoded_sentence = decode_sequence(input_seq)\n",
        "print('Input English sentence:', X_train[k:k+1].values[0])\n",
        "print('Actual Marathi Translation:', y_train[k:k+1].values[0][6:-4])\n",
        "print('Predicted Marathi Translation:', decoded_sentence[:-4])"
      ],
      "execution_count": 95,
      "outputs": [
        {
          "output_type": "stream",
          "text": [
            "Input English sentence: a demain\n",
            "Actual Marathi Translation:  é sù ayì hɔ́n \n",
            "Predicted Marathi Translation:  e wa sɔ \n"
          ],
          "name": "stdout"
        }
      ]
    },
    {
      "cell_type": "code",
      "metadata": {
        "id": "_L2EhvLQLXf3",
        "colab_type": "code",
        "colab": {
          "base_uri": "https://localhost:8080/",
          "height": 68
        },
        "outputId": "d9844c0d-bb67-4803-d40f-915f9cb5cb96"
      },
      "source": [
        "k+=1\n",
        "(input_seq, actual_output), _ = next(train_gen)\n",
        "decoded_sentence = decode_sequence(input_seq)\n",
        "print('Input English sentence:', X_train[k:k+1].values[0])\n",
        "print('Actual Marathi Translation:', y_train[k:k+1].values[0][6:-4])\n",
        "print('Predicted Marathi Translation:', decoded_sentence[:-4])"
      ],
      "execution_count": 96,
      "outputs": [
        {
          "output_type": "stream",
          "text": [
            "Input English sentence: les marchandes étalent leurs marchandises sur leur éventaire\n",
            "Actual Marathi Translation:  nùsátɔ́ lɛ́ nɔ́ tɛ́ agbàn ɖò kpancáɖá yètɔ́n jí \n",
            "Predicted Marathi Translation:  atin lε ɖo cuku yetɔn da kpo \n"
          ],
          "name": "stdout"
        }
      ]
    },
    {
      "cell_type": "code",
      "metadata": {
        "id": "VT79p8G3LXf7",
        "colab_type": "code",
        "colab": {
          "base_uri": "https://localhost:8080/",
          "height": 68
        },
        "outputId": "3b661a5f-31cc-4557-d628-daba9dcc23ad"
      },
      "source": [
        "k+=1\n",
        "(input_seq, actual_output), _ = next(train_gen)\n",
        "decoded_sentence = decode_sequence(input_seq)\n",
        "print('Input English sentence:', X_train[k:k+1].values[0])\n",
        "print('Actual Marathi Translation:', y_train[k:k+1].values[0][6:-4])\n",
        "print('Predicted Marathi Translation:', decoded_sentence[:-4])"
      ],
      "execution_count": 97,
      "outputs": [
        {
          "output_type": "stream",
          "text": [
            "Input English sentence: hé bien ils montrent un homme bien\n",
            "Actual Marathi Translation:  hɛɛn e nɔ xlɛ sunnu ganji \n",
            "Predicted Marathi Translation:  nu ye nɔ da hu ganji \n"
          ],
          "name": "stdout"
        }
      ]
    },
    {
      "cell_type": "code",
      "metadata": {
        "id": "p-PE7SYPLXf9",
        "colab_type": "code",
        "colab": {
          "base_uri": "https://localhost:8080/",
          "height": 68
        },
        "outputId": "57ced173-deca-48f0-f901-6fb8ca4fb7dc"
      },
      "source": [
        "k+=1\n",
        "(input_seq, actual_output), _ = next(train_gen)\n",
        "decoded_sentence = decode_sequence(input_seq)\n",
        "print('Input English sentence:', X_train[k:k+1].values[0])\n",
        "print('Actual Marathi Translation:', y_train[k:k+1].values[0][6:-4])\n",
        "print('Predicted Marathi Translation:', decoded_sentence[:-4])"
      ],
      "execution_count": 98,
      "outputs": [
        {
          "output_type": "stream",
          "text": [
            "Input English sentence: estce quelle gagne beaucoup dargent\n",
            "Actual Marathi Translation:  e nɔ ɖu akwε gege à \n",
            "Predicted Marathi Translation:  e ɖo te kpɔn xεsi nu wε bo ye \n"
          ],
          "name": "stdout"
        }
      ]
    },
    {
      "cell_type": "code",
      "metadata": {
        "id": "rNvbSR9bLXf_",
        "colab_type": "code",
        "colab": {
          "base_uri": "https://localhost:8080/",
          "height": 68
        },
        "outputId": "a3d25476-cd09-4c33-c77e-723de58d912c"
      },
      "source": [
        "k+=1\n",
        "(input_seq, actual_output), _ = next(train_gen)\n",
        "decoded_sentence = decode_sequence(input_seq)\n",
        "print('Input English sentence:', X_train[k:k+1].values[0])\n",
        "print('Actual Marathi Translation:', y_train[k:k+1].values[0][6:-4])\n",
        "print('Predicted Marathi Translation:', decoded_sentence[:-4])"
      ],
      "execution_count": 99,
      "outputs": [
        {
          "output_type": "stream",
          "text": [
            "Input English sentence: corde\n",
            "Actual Marathi Translation:  kan \n",
            "Predicted Marathi Translation:  \n"
          ],
          "name": "stdout"
        }
      ]
    },
    {
      "cell_type": "code",
      "metadata": {
        "id": "GeYvoFZkLXgB",
        "colab_type": "code",
        "colab": {}
      },
      "source": [
        ""
      ],
      "execution_count": 0,
      "outputs": []
    },
    {
      "cell_type": "markdown",
      "metadata": {
        "id": "fIOIYTEeLXgM",
        "colab_type": "text"
      },
      "source": [
        "### Evaluation on Validation Dataset"
      ]
    },
    {
      "cell_type": "code",
      "metadata": {
        "id": "6LxRTPT6LXgO",
        "colab_type": "code",
        "colab": {}
      },
      "source": [
        "val_gen = generate_batch(X_test, y_test, batch_size = 1)\n",
        "k=-1"
      ],
      "execution_count": 0,
      "outputs": []
    },
    {
      "cell_type": "code",
      "metadata": {
        "id": "vTregoDqLXgS",
        "colab_type": "code",
        "colab": {
          "base_uri": "https://localhost:8080/",
          "height": 68
        },
        "outputId": "f0447245-6f6e-4c5b-b99b-8f14c0957883"
      },
      "source": [
        "k+=1\n",
        "(input_seq, actual_output), _ = next(val_gen)\n",
        "decoded_sentence = decode_sequence(input_seq)\n",
        "print('Input English sentence:', X_test[k:k+1].values[0])\n",
        "print('Actual Marathi Translation:', y_test[k:k+1].values[0][6:-4])\n",
        "print('Predicted Marathi Translation:', decoded_sentence[:-4])"
      ],
      "execution_count": 101,
      "outputs": [
        {
          "output_type": "stream",
          "text": [
            "Input English sentence: cest du café\n",
            "Actual Marathi Translation:  kafe wɛ \n",
            "Predicted Marathi Translation:  sin hun ɔ \n"
          ],
          "name": "stdout"
        }
      ]
    },
    {
      "cell_type": "code",
      "metadata": {
        "id": "Fqx7iT1lLXgT",
        "colab_type": "code",
        "colab": {
          "base_uri": "https://localhost:8080/",
          "height": 68
        },
        "outputId": "b0a745d1-46ca-4cbd-fc03-d08a364dfdc8"
      },
      "source": [
        "k+=1\n",
        "(input_seq, actual_output), _ = next(val_gen)\n",
        "decoded_sentence = decode_sequence(input_seq)\n",
        "print('Input English sentence:', X_test[k:k+1].values[0])\n",
        "print('Actual Marathi Translation:', y_test[k:k+1].values[0][6:-4])\n",
        "print('Predicted Marathi Translation:', decoded_sentence[:-4])"
      ],
      "execution_count": 102,
      "outputs": [
        {
          "output_type": "stream",
          "text": [
            "Input English sentence: ornement\n",
            "Actual Marathi Translation:  aɖawùn \n",
            "Predicted Marathi Translation:  ɖo \n"
          ],
          "name": "stdout"
        }
      ]
    },
    {
      "cell_type": "code",
      "metadata": {
        "id": "Axg_3RosLXgY",
        "colab_type": "code",
        "colab": {
          "base_uri": "https://localhost:8080/",
          "height": 68
        },
        "outputId": "e1f1698d-81eb-40d1-95b8-13d2beb75b3f"
      },
      "source": [
        "k+=1\n",
        "(input_seq, actual_output), _ = next(val_gen)\n",
        "decoded_sentence = decode_sequence(input_seq)\n",
        "print('Input English sentence:', X_test[k:k+1].values[0])\n",
        "print('Actual Marathi Translation:', y_test[k:k+1].values[0][6:-4])\n",
        "print('Predicted Marathi Translation:', decoded_sentence[:-4])"
      ],
      "execution_count": 103,
      "outputs": [
        {
          "output_type": "stream",
          "text": [
            "Input English sentence: la pluie\n",
            "Actual Marathi Translation:  ji \n",
            "Predicted Marathi Translation:  jɛ́n \n"
          ],
          "name": "stdout"
        }
      ]
    },
    {
      "cell_type": "code",
      "metadata": {
        "id": "pGKwyg_SLXgZ",
        "colab_type": "code",
        "colab": {
          "base_uri": "https://localhost:8080/",
          "height": 68
        },
        "outputId": "6321de15-9757-4e4b-f749-906b7b6b4fe6"
      },
      "source": [
        "k+=1\n",
        "(input_seq, actual_output), _ = next(val_gen)\n",
        "decoded_sentence = decode_sequence(input_seq)\n",
        "print('Input English sentence:', X_test[k:k+1].values[0])\n",
        "print('Actual Marathi Translation:', y_test[k:k+1].values[0][6:-4])\n",
        "print('Predicted Marathi Translation:', decoded_sentence[:-4])"
      ],
      "execution_count": 104,
      "outputs": [
        {
          "output_type": "stream",
          "text": [
            "Input English sentence: je tourne à droite\n",
            "Actual Marathi Translation:  un ze ɖo alɔ ɖisi mε \n",
            "Predicted Marathi Translation:  un ɖò kɛ́n ɖokpó \n"
          ],
          "name": "stdout"
        }
      ]
    },
    {
      "cell_type": "code",
      "metadata": {
        "id": "PrwP1IL5LXgb",
        "colab_type": "code",
        "colab": {
          "base_uri": "https://localhost:8080/",
          "height": 68
        },
        "outputId": "682db98d-4cee-473e-94a3-f58494e48821"
      },
      "source": [
        "k+=1\n",
        "(input_seq, actual_output), _ = next(val_gen)\n",
        "decoded_sentence = decode_sequence(input_seq)\n",
        "print('Input English sentence:', X_test[k:k+1].values[0])\n",
        "print('Actual Marathi Translation:', y_test[k:k+1].values[0][6:-4])\n",
        "print('Predicted Marathi Translation:', decoded_sentence[:-4])"
      ],
      "execution_count": 105,
      "outputs": [
        {
          "output_type": "stream",
          "text": [
            "Input English sentence: un voyou\n",
            "Actual Marathi Translation:  aɖò \n",
            "Predicted Marathi Translation:  tɔ ɖe wε \n"
          ],
          "name": "stdout"
        }
      ]
    },
    {
      "cell_type": "code",
      "metadata": {
        "id": "zyKGmBaILXgd",
        "colab_type": "code",
        "colab": {
          "base_uri": "https://localhost:8080/",
          "height": 68
        },
        "outputId": "75633bb5-08e0-4c8a-cddf-64285d2bff60"
      },
      "source": [
        "k+=1\n",
        "(input_seq, actual_output), _ = next(val_gen)\n",
        "decoded_sentence = decode_sequence(input_seq)\n",
        "print('Input English sentence:', X_test[k:k+1].values[0])\n",
        "print('Actual Marathi Translation:', y_test[k:k+1].values[0][6:-4])\n",
        "print('Predicted Marathi Translation:', decoded_sentence[:-4])"
      ],
      "execution_count": 106,
      "outputs": [
        {
          "output_type": "stream",
          "text": [
            "Input English sentence: je n’ai encore jamais entendu cette parole\n",
            "Actual Marathi Translation:  un ko sè xó élɔ́ kpɔ́n ă \n",
            "Predicted Marathi Translation:  un mɔ mɔ̀ nù wú towe lɛ́ ná wá ă \n"
          ],
          "name": "stdout"
        }
      ]
    },
    {
      "cell_type": "code",
      "metadata": {
        "id": "l-G78wChLXge",
        "colab_type": "code",
        "colab": {
          "base_uri": "https://localhost:8080/",
          "height": 68
        },
        "outputId": "06ec9437-41b5-41d5-dc1f-448147efaec5"
      },
      "source": [
        "k+=1\n",
        "(input_seq, actual_output), _ = next(val_gen)\n",
        "decoded_sentence = decode_sequence(input_seq)\n",
        "print('Input English sentence:', X_test[k:k+1].values[0])\n",
        "print('Actual Marathi Translation:', y_test[k:k+1].values[0][6:-4])\n",
        "print('Predicted Marathi Translation:', decoded_sentence[:-4])"
      ],
      "execution_count": 107,
      "outputs": [
        {
          "output_type": "stream",
          "text": [
            "Input English sentence: louche en fer\n",
            "Actual Marathi Translation:  gànglwí \n",
            "Predicted Marathi Translation:  ɔ bi \n"
          ],
          "name": "stdout"
        }
      ]
    },
    {
      "cell_type": "code",
      "metadata": {
        "id": "KgIw-2VrLXgf",
        "colab_type": "code",
        "colab": {
          "base_uri": "https://localhost:8080/",
          "height": 68
        },
        "outputId": "9b28036d-d9e0-44e4-8cd3-d871c01948a7"
      },
      "source": [
        "k+=1\n",
        "(input_seq, actual_output), _ = next(val_gen)\n",
        "decoded_sentence = decode_sequence(input_seq)\n",
        "print('Input English sentence:', X_test[k:k+1].values[0])\n",
        "print('Actual Marathi Translation:', y_test[k:k+1].values[0][6:-4])\n",
        "print('Predicted Marathi Translation:', decoded_sentence[:-4])"
      ],
      "execution_count": 108,
      "outputs": [
        {
          "output_type": "stream",
          "text": [
            "Input English sentence: dessiner\n",
            "Actual Marathi Translation:  đè \n",
            "Predicted Marathi Translation:  \n"
          ],
          "name": "stdout"
        }
      ]
    },
    {
      "cell_type": "code",
      "metadata": {
        "id": "rDCfzXE8LXgi",
        "colab_type": "code",
        "colab": {
          "base_uri": "https://localhost:8080/",
          "height": 68
        },
        "outputId": "0fa92172-3581-4250-92ad-3192e580a663"
      },
      "source": [
        "k+=1\n",
        "(input_seq, actual_output), _ = next(val_gen)\n",
        "decoded_sentence = decode_sequence(input_seq)\n",
        "print('Input English sentence:', X_test[k:k+1].values[0])\n",
        "print('Actual Marathi Translation:', y_test[k:k+1].values[0][6:-4])\n",
        "print('Predicted Marathi Translation:', decoded_sentence[:-4])"
      ],
      "execution_count": 109,
      "outputs": [
        {
          "output_type": "stream",
          "text": [
            "Input English sentence: il parle sans cesse\n",
            "Actual Marathi Translation:  é nɔ́ ɖɔ xó yuù \n",
            "Predicted Marathi Translation:  e ɖo xo ɖɔ wε a na \n"
          ],
          "name": "stdout"
        }
      ]
    },
    {
      "cell_type": "code",
      "metadata": {
        "id": "Z-bMrvwULXgl",
        "colab_type": "code",
        "colab": {
          "base_uri": "https://localhost:8080/",
          "height": 68
        },
        "outputId": "b5ebd3a9-6266-44c7-d3ba-974ce2b7f1cb"
      },
      "source": [
        "k+=1\n",
        "(input_seq, actual_output), _ = next(val_gen)\n",
        "decoded_sentence = decode_sequence(input_seq)\n",
        "print('Input English sentence:', X_test[k:k+1].values[0])\n",
        "print('Actual Marathi Translation:', y_test[k:k+1].values[0][6:-4])\n",
        "print('Predicted Marathi Translation:', decoded_sentence[:-4])"
      ],
      "execution_count": 110,
      "outputs": [
        {
          "output_type": "stream",
          "text": [
            "Input English sentence: atil changé\n",
            "Actual Marathi Translation:  e húzú jijɔ à \n",
            "Predicted Marathi Translation:  e nyɔ́ nukún nú wè \n"
          ],
          "name": "stdout"
        }
      ]
    },
    {
      "cell_type": "code",
      "metadata": {
        "id": "qVNwddvnLXgn",
        "colab_type": "code",
        "colab": {
          "base_uri": "https://localhost:8080/",
          "height": 68
        },
        "outputId": "c7455315-fd85-492c-f11c-b5fce7b1b720"
      },
      "source": [
        "k+=1\n",
        "(input_seq, actual_output), _ = next(val_gen)\n",
        "decoded_sentence = decode_sequence(input_seq)\n",
        "print('Input English sentence:', X_test[k:k+1].values[0])\n",
        "print('Actual Marathi Translation:', y_test[k:k+1].values[0][6:-4])\n",
        "print('Predicted Marathi Translation:', decoded_sentence[:-4])"
      ],
      "execution_count": 111,
      "outputs": [
        {
          "output_type": "stream",
          "text": [
            "Input English sentence: nous allons monter une tente pour y jouer avogan\n",
            "Actual Marathi Translation:  mì nà dó ɖɛɖɛ dó xò avɔgán ná \n",
            "Predicted Marathi Translation:  mì ná yì dó xɔ́ntɔ́n wú \n"
          ],
          "name": "stdout"
        }
      ]
    },
    {
      "cell_type": "code",
      "metadata": {
        "id": "_hjcefRZLXgp",
        "colab_type": "code",
        "colab": {
          "base_uri": "https://localhost:8080/",
          "height": 68
        },
        "outputId": "4c36786c-4bff-419f-f55d-7aafc05188ae"
      },
      "source": [
        "k+=1\n",
        "(input_seq, actual_output), _ = next(val_gen)\n",
        "decoded_sentence = decode_sequence(input_seq)\n",
        "print('Input English sentence:', X_test[k:k+1].values[0])\n",
        "print('Actual Marathi Translation:', y_test[k:k+1].values[0][6:-4])\n",
        "print('Predicted Marathi Translation:', decoded_sentence[:-4])"
      ],
      "execution_count": 112,
      "outputs": [
        {
          "output_type": "stream",
          "text": [
            "Input English sentence: nous approchons de portonovo\n",
            "Actual Marathi Translation:  xɔgbonú kó yá \n",
            "Predicted Marathi Translation:  mi ɖo wema ɖokpo \n"
          ],
          "name": "stdout"
        }
      ]
    },
    {
      "cell_type": "code",
      "metadata": {
        "id": "sd32JZjiLXgq",
        "colab_type": "code",
        "colab": {
          "base_uri": "https://localhost:8080/",
          "height": 68
        },
        "outputId": "eeae05b8-92d6-4150-95c9-15c46de272dc"
      },
      "source": [
        "k+=1\n",
        "(input_seq, actual_output), _ = next(val_gen)\n",
        "decoded_sentence = decode_sequence(input_seq)\n",
        "print('Input English sentence:', X_test[k:k+1].values[0])\n",
        "print('Actual Marathi Translation:', y_test[k:k+1].values[0][6:-4])\n",
        "print('Predicted Marathi Translation:', decoded_sentence[:-4])"
      ],
      "execution_count": 113,
      "outputs": [
        {
          "output_type": "stream",
          "text": [
            "Input English sentence: calcul\n",
            "Actual Marathi Translation:  akɔ́wunta \n",
            "Predicted Marathi Translation:  nùsúnnú \n"
          ],
          "name": "stdout"
        }
      ]
    },
    {
      "cell_type": "code",
      "metadata": {
        "id": "NB6UQ71ALXgs",
        "colab_type": "code",
        "colab": {
          "base_uri": "https://localhost:8080/",
          "height": 68
        },
        "outputId": "e446a6ad-664b-4cb2-e0a6-bdb0d904c9f5"
      },
      "source": [
        "k+=1\n",
        "(input_seq, actual_output), _ = next(val_gen)\n",
        "decoded_sentence = decode_sequence(input_seq)\n",
        "print('Input English sentence:', X_test[k:k+1].values[0])\n",
        "print('Actual Marathi Translation:', y_test[k:k+1].values[0][6:-4])\n",
        "print('Predicted Marathi Translation:', decoded_sentence[:-4])"
      ],
      "execution_count": 114,
      "outputs": [
        {
          "output_type": "stream",
          "text": [
            "Input English sentence: questce que kofi a dit\n",
            "Actual Marathi Translation:  ani kofi ɖɔ \n",
            "Predicted Marathi Translation:  nε kofi ɖɔ \n"
          ],
          "name": "stdout"
        }
      ]
    },
    {
      "cell_type": "code",
      "metadata": {
        "id": "7VLNx8fmLXgu",
        "colab_type": "code",
        "colab": {
          "base_uri": "https://localhost:8080/",
          "height": 68
        },
        "outputId": "21418dca-8b5a-4e16-fc51-de963a596459"
      },
      "source": [
        "k+=1\n",
        "(input_seq, actual_output), _ = next(val_gen)\n",
        "decoded_sentence = decode_sequence(input_seq)\n",
        "print('Input English sentence:', X_test[k:k+1].values[0])\n",
        "print('Actual Marathi Translation:', y_test[k:k+1].values[0][6:-4])\n",
        "print('Predicted Marathi Translation:', decoded_sentence[:-4])"
      ],
      "execution_count": 115,
      "outputs": [
        {
          "output_type": "stream",
          "text": [
            "Input English sentence: imprimeur\n",
            "Actual Marathi Translation:  wèmázíntɔ́ \n",
            "Predicted Marathi Translation:  kpodo kpo \n"
          ],
          "name": "stdout"
        }
      ]
    },
    {
      "cell_type": "code",
      "metadata": {
        "id": "1Op5xLqcLXgx",
        "colab_type": "code",
        "colab": {
          "base_uri": "https://localhost:8080/",
          "height": 68
        },
        "outputId": "b10aacb6-972e-4a20-a2f1-bf0f613c7268"
      },
      "source": [
        "k+=1\n",
        "(input_seq, actual_output), _ = next(val_gen)\n",
        "decoded_sentence = decode_sequence(input_seq)\n",
        "print('Input English sentence:', X_test[k:k+1].values[0])\n",
        "print('Actual Marathi Translation:', y_test[k:k+1].values[0][6:-4])\n",
        "print('Predicted Marathi Translation:', decoded_sentence[:-4])"
      ],
      "execution_count": 116,
      "outputs": [
        {
          "output_type": "stream",
          "text": [
            "Input English sentence: tubercule de manioc\n",
            "Actual Marathi Translation:  fɛnnyɛ́ \n",
            "Predicted Marathi Translation:  ɖo azinkpo \n"
          ],
          "name": "stdout"
        }
      ]
    },
    {
      "cell_type": "code",
      "metadata": {
        "id": "CPkM8EX7LXg0",
        "colab_type": "code",
        "colab": {
          "base_uri": "https://localhost:8080/",
          "height": 68
        },
        "outputId": "40e5fd3a-52a4-410e-899a-a8a93bf0d317"
      },
      "source": [
        "k+=1\n",
        "(input_seq, actual_output), _ = next(val_gen)\n",
        "decoded_sentence = decode_sequence(input_seq)\n",
        "print('Input English sentence:', X_test[k:k+1].values[0])\n",
        "print('Actual Marathi Translation:', y_test[k:k+1].values[0][6:-4])\n",
        "print('Predicted Marathi Translation:', decoded_sentence[:-4])"
      ],
      "execution_count": 117,
      "outputs": [
        {
          "output_type": "stream",
          "text": [
            "Input English sentence: qui vole avec effraction\n",
            "Actual Marathi Translation:  xwéfotɔ́ \n",
            "Predicted Marathi Translation:  vi \n"
          ],
          "name": "stdout"
        }
      ]
    },
    {
      "cell_type": "code",
      "metadata": {
        "id": "1QiKKSGwLXg2",
        "colab_type": "code",
        "colab": {
          "base_uri": "https://localhost:8080/",
          "height": 68
        },
        "outputId": "63949420-8752-4b05-d2e8-226cdedc0007"
      },
      "source": [
        "k+=1\n",
        "(input_seq, actual_output), _ = next(val_gen)\n",
        "decoded_sentence = decode_sequence(input_seq)\n",
        "print('Input English sentence:', X_test[k:k+1].values[0])\n",
        "print('Actual Marathi Translation:', y_test[k:k+1].values[0][6:-4])\n",
        "print('Predicted Marathi Translation:', decoded_sentence[:-4])"
      ],
      "execution_count": 118,
      "outputs": [
        {
          "output_type": "stream",
          "text": [
            "Input English sentence: alors je suis allée à lécole en bus\n",
            "Actual Marathi Translation:  bo un gbo do hun yi azomε \n",
            "Predicted Marathi Translation:  e un wa xwe ɔ a fɔn un ɖo akɔnkpikpan \n"
          ],
          "name": "stdout"
        }
      ]
    },
    {
      "cell_type": "code",
      "metadata": {
        "id": "fXptl9AULXg3",
        "colab_type": "code",
        "colab": {
          "base_uri": "https://localhost:8080/",
          "height": 68
        },
        "outputId": "07d05940-bdab-4d3f-ba3c-5a06e5c411cd"
      },
      "source": [
        "k+=1\n",
        "(input_seq, actual_output), _ = next(val_gen)\n",
        "decoded_sentence = decode_sequence(input_seq)\n",
        "print('Input English sentence:', X_test[k:k+1].values[0])\n",
        "print('Actual Marathi Translation:', y_test[k:k+1].values[0][6:-4])\n",
        "print('Predicted Marathi Translation:', decoded_sentence[:-4])"
      ],
      "execution_count": 119,
      "outputs": [
        {
          "output_type": "stream",
          "text": [
            "Input English sentence: le marché s’anime\n",
            "Actual Marathi Translation:  axi ɖo jijɛ wὲ \n",
            "Predicted Marathi Translation:  yi do nu finɛ \n"
          ],
          "name": "stdout"
        }
      ]
    },
    {
      "cell_type": "code",
      "metadata": {
        "id": "Jsgm_cavLXg7",
        "colab_type": "code",
        "colab": {
          "base_uri": "https://localhost:8080/",
          "height": 68
        },
        "outputId": "e020838f-48bb-4788-a57f-5b337664311f"
      },
      "source": [
        "k+=1\n",
        "(input_seq, actual_output), _ = next(val_gen)\n",
        "decoded_sentence = decode_sequence(input_seq)\n",
        "print('Input English sentence:', X_test[k:k+1].values[0])\n",
        "print('Actual Marathi Translation:', y_test[k:k+1].values[0][6:-4])\n",
        "print('Predicted Marathi Translation:', decoded_sentence[:-4])"
      ],
      "execution_count": 120,
      "outputs": [
        {
          "output_type": "stream",
          "text": [
            "Input English sentence: car cest lui qui sauvera son peuple de ses péchés\n",
            "Actual Marathi Translation:  ðó é na hwlɛn togun tɔn gán sín hwɛ tɔn lɛɛ mɛ \n",
            "Predicted Marathi Translation:  e nɔ yi wan nu azɔ tɔn na ɖo nu a e nyi wɛ nyi ye \n"
          ],
          "name": "stdout"
        }
      ]
    },
    {
      "cell_type": "code",
      "metadata": {
        "id": "NLZCiZ7ILXg_",
        "colab_type": "code",
        "colab": {
          "base_uri": "https://localhost:8080/",
          "height": 68
        },
        "outputId": "0669a77a-5808-45a6-ca45-a59eca34878d"
      },
      "source": [
        "k+=1\n",
        "(input_seq, actual_output), _ = next(val_gen)\n",
        "decoded_sentence = decode_sequence(input_seq)\n",
        "print('Input English sentence:', X_test[k:k+1].values[0])\n",
        "print('Actual Marathi Translation:', y_test[k:k+1].values[0][6:-4])\n",
        "print('Predicted Marathi Translation:', decoded_sentence[:-4])"
      ],
      "execution_count": 121,
      "outputs": [
        {
          "output_type": "stream",
          "text": [
            "Input English sentence: j’irai faire le marché du soir\n",
            "Actual Marathi Translation:  un na yi xwlé agbònúxì \n",
            "Predicted Marathi Translation:  un na yi azɔ ce lɛ́ ná yí wè \n"
          ],
          "name": "stdout"
        }
      ]
    },
    {
      "cell_type": "code",
      "metadata": {
        "id": "YafYlxgTLXhB",
        "colab_type": "code",
        "colab": {
          "base_uri": "https://localhost:8080/",
          "height": 68
        },
        "outputId": "1fadd9a1-3eba-41c3-9050-5d1251ea2749"
      },
      "source": [
        "k+=1\n",
        "(input_seq, actual_output), _ = next(val_gen)\n",
        "decoded_sentence = decode_sequence(input_seq)\n",
        "print('Input English sentence:', X_test[k:k+1].values[0])\n",
        "print('Actual Marathi Translation:', y_test[k:k+1].values[0][6:-4])\n",
        "print('Predicted Marathi Translation:', decoded_sentence[:-4])"
      ],
      "execution_count": 122,
      "outputs": [
        {
          "output_type": "stream",
          "text": [
            "Input English sentence: il est devenu fou\n",
            "Actual Marathi Translation:  é bɛ́ wlé \n",
            "Predicted Marathi Translation:  é kú dó \n"
          ],
          "name": "stdout"
        }
      ]
    },
    {
      "cell_type": "code",
      "metadata": {
        "id": "4BZaIHi_LXhF",
        "colab_type": "code",
        "colab": {
          "base_uri": "https://localhost:8080/",
          "height": 68
        },
        "outputId": "46323097-8661-45f9-ede2-4af57f591a73"
      },
      "source": [
        "k+=1\n",
        "(input_seq, actual_output), _ = next(val_gen)\n",
        "decoded_sentence = decode_sequence(input_seq)\n",
        "print('Input English sentence:', X_test[k:k+1].values[0])\n",
        "print('Actual Marathi Translation:', y_test[k:k+1].values[0][6:-4])\n",
        "print('Predicted Marathi Translation:', decoded_sentence[:-4])"
      ],
      "execution_count": 123,
      "outputs": [
        {
          "output_type": "stream",
          "text": [
            "Input English sentence: et toi doù vienstu\n",
            "Actual Marathi Translation:  hwε lo fitε a gosin \n",
            "Predicted Marathi Translation:  fítɛ́ a nɔ bló gbɔ̀n mɔ̆ \n"
          ],
          "name": "stdout"
        }
      ]
    },
    {
      "cell_type": "code",
      "metadata": {
        "id": "n3oC6uZuLXhJ",
        "colab_type": "code",
        "colab": {
          "base_uri": "https://localhost:8080/",
          "height": 68
        },
        "outputId": "cccd2151-911f-4d98-b570-7d1f3881d6bc"
      },
      "source": [
        "k+=1\n",
        "(input_seq, actual_output), _ = next(val_gen)\n",
        "decoded_sentence = decode_sequence(input_seq)\n",
        "print('Input English sentence:', X_test[k:k+1].values[0])\n",
        "print('Actual Marathi Translation:', y_test[k:k+1].values[0][6:-4])\n",
        "print('Predicted Marathi Translation:', decoded_sentence[:-4])"
      ],
      "execution_count": 124,
      "outputs": [
        {
          "output_type": "stream",
          "text": [
            "Input English sentence: je me promène à lombre dun arbre\n",
            "Actual Marathi Translation:  un ɖo yε bε ɖo atin ɔ gwlε \n",
            "Predicted Marathi Translation:  un ɖo wɔxuxu tɔn atin lε \n"
          ],
          "name": "stdout"
        }
      ]
    },
    {
      "cell_type": "code",
      "metadata": {
        "id": "8UBiYVdvLXhK",
        "colab_type": "code",
        "colab": {
          "base_uri": "https://localhost:8080/",
          "height": 68
        },
        "outputId": "ed540dca-f9a1-4b99-e503-baf1cdb0ce7b"
      },
      "source": [
        "k+=1\n",
        "(input_seq, actual_output), _ = next(val_gen)\n",
        "decoded_sentence = decode_sequence(input_seq)\n",
        "print('Input English sentence:', X_test[k:k+1].values[0])\n",
        "print('Actual Marathi Translation:', y_test[k:k+1].values[0][6:-4])\n",
        "print('Predicted Marathi Translation:', decoded_sentence[:-4])"
      ],
      "execution_count": 125,
      "outputs": [
        {
          "output_type": "stream",
          "text": [
            "Input English sentence: caché\n",
            "Actual Marathi Translation:  bibɛ \n",
            "Predicted Marathi Translation:  mì \n"
          ],
          "name": "stdout"
        }
      ]
    },
    {
      "cell_type": "code",
      "metadata": {
        "id": "uQcU56FfLXhM",
        "colab_type": "code",
        "colab": {
          "base_uri": "https://localhost:8080/",
          "height": 68
        },
        "outputId": "59610467-fc32-4648-e775-84aeb0c4be54"
      },
      "source": [
        "k+=1\n",
        "(input_seq, actual_output), _ = next(val_gen)\n",
        "decoded_sentence = decode_sequence(input_seq)\n",
        "print('Input English sentence:', X_test[k:k+1].values[0])\n",
        "print('Actual Marathi Translation:', y_test[k:k+1].values[0][6:-4])\n",
        "print('Predicted Marathi Translation:', decoded_sentence[:-4])"
      ],
      "execution_count": 126,
      "outputs": [
        {
          "output_type": "stream",
          "text": [
            "Input English sentence: ca va couler en pure perte\n",
            "Actual Marathi Translation:  e ná lúlú \n",
            "Predicted Marathi Translation:  e bɛ́ na yĕ \n"
          ],
          "name": "stdout"
        }
      ]
    },
    {
      "cell_type": "code",
      "metadata": {
        "id": "XvjnSavRLXhQ",
        "colab_type": "code",
        "colab": {
          "base_uri": "https://localhost:8080/",
          "height": 68
        },
        "outputId": "445d0cdc-714b-4475-ace8-731425cf554b"
      },
      "source": [
        "k+=1\n",
        "(input_seq, actual_output), _ = next(val_gen)\n",
        "decoded_sentence = decode_sequence(input_seq)\n",
        "print('Input English sentence:', X_test[k:k+1].values[0])\n",
        "print('Actual Marathi Translation:', y_test[k:k+1].values[0][6:-4])\n",
        "print('Predicted Marathi Translation:', decoded_sentence[:-4])"
      ],
      "execution_count": 127,
      "outputs": [
        {
          "output_type": "stream",
          "text": [
            "Input English sentence: moelle\n",
            "Actual Marathi Translation:  fɔ̀n \n",
            "Predicted Marathi Translation:  kpodo kpo \n"
          ],
          "name": "stdout"
        }
      ]
    },
    {
      "cell_type": "code",
      "metadata": {
        "id": "1fwvfcAFLXhU",
        "colab_type": "code",
        "colab": {
          "base_uri": "https://localhost:8080/",
          "height": 68
        },
        "outputId": "9d76f07e-a7f3-412e-e105-32613bb03324"
      },
      "source": [
        "k+=1\n",
        "(input_seq, actual_output), _ = next(val_gen)\n",
        "decoded_sentence = decode_sequence(input_seq)\n",
        "print('Input English sentence:', X_test[k:k+1].values[0])\n",
        "print('Actual Marathi Translation:', y_test[k:k+1].values[0][6:-4])\n",
        "print('Predicted Marathi Translation:', decoded_sentence[:-4])"
      ],
      "execution_count": 128,
      "outputs": [
        {
          "output_type": "stream",
          "text": [
            "Input English sentence: pâte levée\n",
            "Actual Marathi Translation:  akánnújì \n",
            "Predicted Marathi Translation:  \n"
          ],
          "name": "stdout"
        }
      ]
    },
    {
      "cell_type": "code",
      "metadata": {
        "id": "QfqFnqdRLXhW",
        "colab_type": "code",
        "colab": {
          "base_uri": "https://localhost:8080/",
          "height": 68
        },
        "outputId": "c5fc1e88-b865-4b1f-edb9-ba115107074f"
      },
      "source": [
        "k+=1\n",
        "(input_seq, actual_output), _ = next(val_gen)\n",
        "decoded_sentence = decode_sequence(input_seq)\n",
        "print('Input English sentence:', X_test[k:k+1].values[0])\n",
        "print('Actual Marathi Translation:', y_test[k:k+1].values[0][6:-4])\n",
        "print('Predicted Marathi Translation:', decoded_sentence[:-4])"
      ],
      "execution_count": 129,
      "outputs": [
        {
          "output_type": "stream",
          "text": [
            "Input English sentence: il m’imite\n",
            "Actual Marathi Translation:  e nɔ́ vlɛ́ mì \n",
            "Predicted Marathi Translation:  e nɔ ɖi we à \n"
          ],
          "name": "stdout"
        }
      ]
    },
    {
      "cell_type": "code",
      "metadata": {
        "id": "76Uzf7SDLXhZ",
        "colab_type": "code",
        "colab": {
          "base_uri": "https://localhost:8080/",
          "height": 68
        },
        "outputId": "2dde7d49-2969-4255-a740-8fbfb0997be8"
      },
      "source": [
        "k+=1\n",
        "(input_seq, actual_output), _ = next(val_gen)\n",
        "decoded_sentence = decode_sequence(input_seq)\n",
        "print('Input English sentence:', X_test[k:k+1].values[0])\n",
        "print('Actual Marathi Translation:', y_test[k:k+1].values[0][6:-4])\n",
        "print('Predicted Marathi Translation:', decoded_sentence[:-4])"
      ],
      "execution_count": 130,
      "outputs": [
        {
          "output_type": "stream",
          "text": [
            "Input English sentence: griot\n",
            "Actual Marathi Translation:  hansinɔ̀ \n",
            "Predicted Marathi Translation:  \n"
          ],
          "name": "stdout"
        }
      ]
    },
    {
      "cell_type": "code",
      "metadata": {
        "id": "k-daLhKrLXhb",
        "colab_type": "code",
        "colab": {
          "base_uri": "https://localhost:8080/",
          "height": 68
        },
        "outputId": "da1d87e0-0016-4226-8aab-2e794e317dc1"
      },
      "source": [
        "k+=1\n",
        "(input_seq, actual_output), _ = next(val_gen)\n",
        "decoded_sentence = decode_sequence(input_seq)\n",
        "print('Input English sentence:', X_test[k:k+1].values[0])\n",
        "print('Actual Marathi Translation:', y_test[k:k+1].values[0][6:-4])\n",
        "print('Predicted Marathi Translation:', decoded_sentence[:-4])"
      ],
      "execution_count": 131,
      "outputs": [
        {
          "output_type": "stream",
          "text": [
            "Input English sentence: chagrin\n",
            "Actual Marathi Translation:  nùvìvɛ́ \n",
            "Predicted Marathi Translation:  kpo \n"
          ],
          "name": "stdout"
        }
      ]
    },
    {
      "cell_type": "code",
      "metadata": {
        "id": "qBGvDiuLLXhd",
        "colab_type": "code",
        "colab": {
          "base_uri": "https://localhost:8080/",
          "height": 68
        },
        "outputId": "5109cfde-ba00-48ee-b3cf-6a849db16cc1"
      },
      "source": [
        "k+=1\n",
        "(input_seq, actual_output), _ = next(val_gen)\n",
        "decoded_sentence = decode_sequence(input_seq)\n",
        "print('Input English sentence:', X_test[k:k+1].values[0])\n",
        "print('Actual Marathi Translation:', y_test[k:k+1].values[0][6:-4])\n",
        "print('Predicted Marathi Translation:', decoded_sentence[:-4])"
      ],
      "execution_count": 132,
      "outputs": [
        {
          "output_type": "stream",
          "text": [
            "Input English sentence: ils sont venus de làbas\n",
            "Actual Marathi Translation:  dɔ̀n wɛ̀ yè sɔ́n \n",
            "Predicted Marathi Translation:  yè wá \n"
          ],
          "name": "stdout"
        }
      ]
    },
    {
      "cell_type": "code",
      "metadata": {
        "id": "ZVlbCLj5LXhf",
        "colab_type": "code",
        "colab": {
          "base_uri": "https://localhost:8080/",
          "height": 68
        },
        "outputId": "18fcd1e3-99d5-4ff9-ff34-f35cbc91d6d4"
      },
      "source": [
        "k+=1\n",
        "(input_seq, actual_output), _ = next(val_gen)\n",
        "decoded_sentence = decode_sequence(input_seq)\n",
        "print('Input English sentence:', X_test[k:k+1].values[0])\n",
        "print('Actual Marathi Translation:', y_test[k:k+1].values[0][6:-4])\n",
        "print('Predicted Marathi Translation:', decoded_sentence[:-4])"
      ],
      "execution_count": 133,
      "outputs": [
        {
          "output_type": "stream",
          "text": [
            "Input English sentence: il est à moitié plein\n",
            "Actual Marathi Translation:  é gɔ́ dó akpò \n",
            "Predicted Marathi Translation:  e ɖò ɖa dín \n"
          ],
          "name": "stdout"
        }
      ]
    },
    {
      "cell_type": "code",
      "metadata": {
        "id": "eRwP0VXxLXhh",
        "colab_type": "code",
        "colab": {
          "base_uri": "https://localhost:8080/",
          "height": 68
        },
        "outputId": "cc69b400-6f9c-4ca0-b8ca-53591e34010a"
      },
      "source": [
        "k+=1\n",
        "(input_seq, actual_output), _ = next(val_gen)\n",
        "decoded_sentence = decode_sequence(input_seq)\n",
        "print('Input English sentence:', X_test[k:k+1].values[0])\n",
        "print('Actual Marathi Translation:', y_test[k:k+1].values[0][6:-4])\n",
        "print('Predicted Marathi Translation:', decoded_sentence[:-4])"
      ],
      "execution_count": 134,
      "outputs": [
        {
          "output_type": "stream",
          "text": [
            "Input English sentence: pièce de centimes\n",
            "Actual Marathi Translation:  tawungá \n",
            "Predicted Marathi Translation:  ɔ \n"
          ],
          "name": "stdout"
        }
      ]
    },
    {
      "cell_type": "code",
      "metadata": {
        "id": "v4Q3etdTLXhj",
        "colab_type": "code",
        "colab": {
          "base_uri": "https://localhost:8080/",
          "height": 68
        },
        "outputId": "d0bcc8fa-f5b2-4fa6-bee9-aa95cc055aab"
      },
      "source": [
        "k+=1\n",
        "(input_seq, actual_output), _ = next(val_gen)\n",
        "decoded_sentence = decode_sequence(input_seq)\n",
        "print('Input English sentence:', X_test[k:k+1].values[0])\n",
        "print('Actual Marathi Translation:', y_test[k:k+1].values[0][6:-4])\n",
        "print('Predicted Marathi Translation:', decoded_sentence[:-4])"
      ],
      "execution_count": 135,
      "outputs": [
        {
          "output_type": "stream",
          "text": [
            "Input English sentence: le toit de la maison\n",
            "Actual Marathi Translation:  xwe ce sin xɔta \n",
            "Predicted Marathi Translation:  xwe ɔ́ ɖò xwe gbe gbe \n"
          ],
          "name": "stdout"
        }
      ]
    },
    {
      "cell_type": "code",
      "metadata": {
        "id": "udAvyVYuLXhr",
        "colab_type": "code",
        "colab": {
          "base_uri": "https://localhost:8080/",
          "height": 68
        },
        "outputId": "a0bf4cf7-fe2c-4527-cb7d-04335ed39bf0"
      },
      "source": [
        "k+=1\n",
        "(input_seq, actual_output), _ = next(val_gen)\n",
        "decoded_sentence = decode_sequence(input_seq)\n",
        "print('Input English sentence:', X_test[k:k+1].values[0])\n",
        "print('Actual Marathi Translation:', y_test[k:k+1].values[0][6:-4])\n",
        "print('Predicted Marathi Translation:', decoded_sentence[:-4])"
      ],
      "execution_count": 136,
      "outputs": [
        {
          "output_type": "stream",
          "text": [
            "Input English sentence: marteau\n",
            "Actual Marathi Translation:  malitó \n",
            "Predicted Marathi Translation:  ɔ \n"
          ],
          "name": "stdout"
        }
      ]
    },
    {
      "cell_type": "code",
      "metadata": {
        "id": "kIVT7osfLXhw",
        "colab_type": "code",
        "colab": {
          "base_uri": "https://localhost:8080/",
          "height": 68
        },
        "outputId": "f7a6ad9c-734f-4adb-a08f-ce5908644810"
      },
      "source": [
        "k+=1\n",
        "(input_seq, actual_output), _ = next(val_gen)\n",
        "decoded_sentence = decode_sequence(input_seq)\n",
        "print('Input English sentence:', X_test[k:k+1].values[0])\n",
        "print('Actual Marathi Translation:', y_test[k:k+1].values[0][6:-4])\n",
        "print('Predicted Marathi Translation:', decoded_sentence[:-4])"
      ],
      "execution_count": 137,
      "outputs": [
        {
          "output_type": "stream",
          "text": [
            "Input English sentence: le travail doit être fini avant la fin de lannée\n",
            "Actual Marathi Translation:  azɔ ɔ ɖo na nyi fifo cobɔ xwe o na fo \n",
            "Predicted Marathi Translation:  vi ɔ ɖo na nyi nu we ɖo fi ɔ sin kutɔnu \n"
          ],
          "name": "stdout"
        }
      ]
    },
    {
      "cell_type": "code",
      "metadata": {
        "id": "C-NUW_UtLXhx",
        "colab_type": "code",
        "colab": {
          "base_uri": "https://localhost:8080/",
          "height": 68
        },
        "outputId": "38fe3564-c7a2-42c8-b0c8-dd309330950f"
      },
      "source": [
        "k+=1\n",
        "(input_seq, actual_output), _ = next(val_gen)\n",
        "decoded_sentence = decode_sequence(input_seq)\n",
        "print('Input English sentence:', X_test[k:k+1].values[0])\n",
        "print('Actual Marathi Translation:', y_test[k:k+1].values[0][6:-4])\n",
        "print('Predicted Marathi Translation:', decoded_sentence[:-4])"
      ],
      "execution_count": 138,
      "outputs": [
        {
          "output_type": "stream",
          "text": [
            "Input English sentence: que veuxtu acheter\n",
            "Actual Marathi Translation:  etɛ xɔ gbe a ja \n",
            "Predicted Marathi Translation:  etε a xɔ nu \n"
          ],
          "name": "stdout"
        }
      ]
    },
    {
      "cell_type": "code",
      "metadata": {
        "id": "TfgWwQw2LXhz",
        "colab_type": "code",
        "colab": {
          "base_uri": "https://localhost:8080/",
          "height": 68
        },
        "outputId": "73795b16-1602-44d2-a485-1046d99ef469"
      },
      "source": [
        "k+=1\n",
        "(input_seq, actual_output), _ = next(val_gen)\n",
        "decoded_sentence = decode_sequence(input_seq)\n",
        "print('Input English sentence:', X_test[k:k+1].values[0])\n",
        "print('Actual Marathi Translation:', y_test[k:k+1].values[0][6:-4])\n",
        "print('Predicted Marathi Translation:', decoded_sentence[:-4])"
      ],
      "execution_count": 139,
      "outputs": [
        {
          "output_type": "stream",
          "text": [
            "Input English sentence: promenade\n",
            "Actual Marathi Translation:  sà \n",
            "Predicted Marathi Translation:  \n"
          ],
          "name": "stdout"
        }
      ]
    },
    {
      "cell_type": "code",
      "metadata": {
        "id": "fmE4mIu5LXh5",
        "colab_type": "code",
        "colab": {
          "base_uri": "https://localhost:8080/",
          "height": 68
        },
        "outputId": "efa4e1c4-eb54-4326-b94f-504dba2a83d5"
      },
      "source": [
        "k+=1\n",
        "(input_seq, actual_output), _ = next(val_gen)\n",
        "decoded_sentence = decode_sequence(input_seq)\n",
        "print('Input English sentence:', X_test[k:k+1].values[0])\n",
        "print('Actual Marathi Translation:', y_test[k:k+1].values[0][6:-4])\n",
        "print('Predicted Marathi Translation:', decoded_sentence[:-4])"
      ],
      "execution_count": 140,
      "outputs": [
        {
          "output_type": "stream",
          "text": [
            "Input English sentence: mange un fruit\n",
            "Actual Marathi Translation:  ɖu atinsinsɛn ɖokpo \n",
            "Predicted Marathi Translation:  ɖu atinsinsεn ɖokpo \n"
          ],
          "name": "stdout"
        }
      ]
    },
    {
      "cell_type": "code",
      "metadata": {
        "id": "ulKEgJ0oLXh7",
        "colab_type": "code",
        "colab": {
          "base_uri": "https://localhost:8080/",
          "height": 68
        },
        "outputId": "60d33356-e64d-4ba3-995f-baf09407a43a"
      },
      "source": [
        "k+=1\n",
        "(input_seq, actual_output), _ = next(val_gen)\n",
        "decoded_sentence = decode_sequence(input_seq)\n",
        "print('Input English sentence:', X_test[k:k+1].values[0])\n",
        "print('Actual Marathi Translation:', y_test[k:k+1].values[0][6:-4])\n",
        "print('Predicted Marathi Translation:', decoded_sentence[:-4])"
      ],
      "execution_count": 141,
      "outputs": [
        {
          "output_type": "stream",
          "text": [
            "Input English sentence: nous étudions le fon\n",
            "Actual Marathi Translation:  mi ɖo fɔngbe kplɔn wɛ \n",
            "Predicted Marathi Translation:  mi ɖo fɔngbe kplɔn wε \n"
          ],
          "name": "stdout"
        }
      ]
    },
    {
      "cell_type": "code",
      "metadata": {
        "id": "1sJEV7xRLXh8",
        "colab_type": "code",
        "colab": {
          "base_uri": "https://localhost:8080/",
          "height": 68
        },
        "outputId": "ff0d2cda-b798-45e9-8793-ac016912952f"
      },
      "source": [
        "k+=1\n",
        "(input_seq, actual_output), _ = next(val_gen)\n",
        "decoded_sentence = decode_sequence(input_seq)\n",
        "print('Input English sentence:', X_test[k:k+1].values[0])\n",
        "print('Actual Marathi Translation:', y_test[k:k+1].values[0][6:-4])\n",
        "print('Predicted Marathi Translation:', decoded_sentence[:-4])"
      ],
      "execution_count": 142,
      "outputs": [
        {
          "output_type": "stream",
          "text": [
            "Input English sentence: ils lobligèrent à le faire\n",
            "Actual Marathi Translation:  yè zɔ́n ɛ̀ gànnú ɖɔ̀ é ní bló \n",
            "Predicted Marathi Translation:  ye ɖo na wa \n"
          ],
          "name": "stdout"
        }
      ]
    },
    {
      "cell_type": "code",
      "metadata": {
        "id": "zQtb2wOnLXh_",
        "colab_type": "code",
        "colab": {
          "base_uri": "https://localhost:8080/",
          "height": 68
        },
        "outputId": "f903eb6a-3e75-4735-d555-296ceef3cb4a"
      },
      "source": [
        "k+=1\n",
        "(input_seq, actual_output), _ = next(val_gen)\n",
        "decoded_sentence = decode_sequence(input_seq)\n",
        "print('Input English sentence:', X_test[k:k+1].values[0])\n",
        "print('Actual Marathi Translation:', y_test[k:k+1].values[0][6:-4])\n",
        "print('Predicted Marathi Translation:', decoded_sentence[:-4])"
      ],
      "execution_count": 143,
      "outputs": [
        {
          "output_type": "stream",
          "text": [
            "Input English sentence: elle nettoie son congélateur deux fois par an\n",
            "Actual Marathi Translation:  e nɔ sunsun congélateur tɔn azɔn we ɖo xwe ɖokpo mε \n",
            "Predicted Marathi Translation:  e nɔ wazɔ bo ɖyɔ gege \n"
          ],
          "name": "stdout"
        }
      ]
    },
    {
      "cell_type": "code",
      "metadata": {
        "id": "NERmQ9rPLXiB",
        "colab_type": "code",
        "colab": {
          "base_uri": "https://localhost:8080/",
          "height": 68
        },
        "outputId": "af9631a1-c88c-4fb3-823b-df7c720d9010"
      },
      "source": [
        "k+=1\n",
        "(input_seq, actual_output), _ = next(val_gen)\n",
        "decoded_sentence = decode_sequence(input_seq)\n",
        "print('Input English sentence:', X_test[k:k+1].values[0])\n",
        "print('Actual Marathi Translation:', y_test[k:k+1].values[0][6:-4])\n",
        "print('Predicted Marathi Translation:', decoded_sentence[:-4])"
      ],
      "execution_count": 144,
      "outputs": [
        {
          "output_type": "stream",
          "text": [
            "Input English sentence: ma vie est en sécurité\n",
            "Actual Marathi Translation:  ayi ce j’ayĭ \n",
            "Predicted Marathi Translation:  nù cé wɛ̀ é nyí \n"
          ],
          "name": "stdout"
        }
      ]
    },
    {
      "cell_type": "code",
      "metadata": {
        "id": "DSACHq5DLXiD",
        "colab_type": "code",
        "colab": {
          "base_uri": "https://localhost:8080/",
          "height": 68
        },
        "outputId": "02fdc6c5-de33-4e64-bf27-04cc94d0c261"
      },
      "source": [
        "k+=1\n",
        "(input_seq, actual_output), _ = next(val_gen)\n",
        "decoded_sentence = decode_sequence(input_seq)\n",
        "print('Input English sentence:', X_test[k:k+1].values[0])\n",
        "print('Actual Marathi Translation:', y_test[k:k+1].values[0][6:-4])\n",
        "print('Predicted Marathi Translation:', decoded_sentence[:-4])"
      ],
      "execution_count": 145,
      "outputs": [
        {
          "output_type": "stream",
          "text": [
            "Input English sentence: elle est en train de vendre sans contrôle\n",
            "Actual Marathi Translation:  dùdúwɔgɔ tɔn sa w’ɛ ɖé \n",
            "Predicted Marathi Translation:  é ɖò nù kpódó ali kpán dín \n"
          ],
          "name": "stdout"
        }
      ]
    },
    {
      "cell_type": "code",
      "metadata": {
        "id": "AoApvv0aLXiG",
        "colab_type": "code",
        "colab": {
          "base_uri": "https://localhost:8080/",
          "height": 68
        },
        "outputId": "61859a6c-8b8f-4450-f49c-ea22c5716b58"
      },
      "source": [
        "k+=1\n",
        "(input_seq, actual_output), _ = next(val_gen)\n",
        "decoded_sentence = decode_sequence(input_seq)\n",
        "print('Input English sentence:', X_test[k:k+1].values[0])\n",
        "print('Actual Marathi Translation:', y_test[k:k+1].values[0][6:-4])\n",
        "print('Predicted Marathi Translation:', decoded_sentence[:-4])"
      ],
      "execution_count": 146,
      "outputs": [
        {
          "output_type": "stream",
          "text": [
            "Input English sentence: je veille sur lui\n",
            "Actual Marathi Translation:  un tɔ́jú ì \n",
            "Predicted Marathi Translation:  un ɖo zɔnlin ɖi wɛ \n"
          ],
          "name": "stdout"
        }
      ]
    },
    {
      "cell_type": "code",
      "metadata": {
        "id": "a9928vegLXiL",
        "colab_type": "code",
        "colab": {
          "base_uri": "https://localhost:8080/",
          "height": 68
        },
        "outputId": "0fa3634b-16d3-43e7-f405-73371a5c4d46"
      },
      "source": [
        "k+=1\n",
        "(input_seq, actual_output), _ = next(val_gen)\n",
        "decoded_sentence = decode_sequence(input_seq)\n",
        "print('Input English sentence:', X_test[k:k+1].values[0])\n",
        "print('Actual Marathi Translation:', y_test[k:k+1].values[0][6:-4])\n",
        "print('Predicted Marathi Translation:', decoded_sentence[:-4])"
      ],
      "execution_count": 147,
      "outputs": [
        {
          "output_type": "stream",
          "text": [
            "Input English sentence: employé de bureau\n",
            "Actual Marathi Translation:  akɔwé \n",
            "Predicted Marathi Translation:  e nɔ ɖi zɔnlin \n"
          ],
          "name": "stdout"
        }
      ]
    },
    {
      "cell_type": "code",
      "metadata": {
        "id": "JsF1hqdILXiN",
        "colab_type": "code",
        "colab": {
          "base_uri": "https://localhost:8080/",
          "height": 68
        },
        "outputId": "08fa5faf-1692-426f-97f8-67ae73f48d48"
      },
      "source": [
        "k+=1\n",
        "(input_seq, actual_output), _ = next(val_gen)\n",
        "decoded_sentence = decode_sequence(input_seq)\n",
        "print('Input English sentence:', X_test[k:k+1].values[0])\n",
        "print('Actual Marathi Translation:', y_test[k:k+1].values[0][6:-4])\n",
        "print('Predicted Marathi Translation:', decoded_sentence[:-4])"
      ],
      "execution_count": 148,
      "outputs": [
        {
          "output_type": "stream",
          "text": [
            "Input English sentence: escalader\n",
            "Actual Marathi Translation:  fán \n",
            "Predicted Marathi Translation:  e nɔ blo we \n"
          ],
          "name": "stdout"
        }
      ]
    },
    {
      "cell_type": "code",
      "metadata": {
        "id": "9CEiNZxJLXiW",
        "colab_type": "code",
        "colab": {
          "base_uri": "https://localhost:8080/",
          "height": 68
        },
        "outputId": "0f8a5d69-01e6-46c7-bb3b-030f5eca1658"
      },
      "source": [
        "k+=1\n",
        "(input_seq, actual_output), _ = next(val_gen)\n",
        "decoded_sentence = decode_sequence(input_seq)\n",
        "print('Input English sentence:', X_test[k:k+1].values[0])\n",
        "print('Actual Marathi Translation:', y_test[k:k+1].values[0][6:-4])\n",
        "print('Predicted Marathi Translation:', decoded_sentence[:-4])"
      ],
      "execution_count": 149,
      "outputs": [
        {
          "output_type": "stream",
          "text": [
            "Input English sentence: ces rivières sont poissonneuses\n",
            "Actual Marathi Translation:  hwevitɔ wε nyi tɔ enε ɔ lε \n",
            "Predicted Marathi Translation:  bo nɔ ɖi xεsi nu hwan lε \n"
          ],
          "name": "stdout"
        }
      ]
    },
    {
      "cell_type": "code",
      "metadata": {
        "id": "xT6PTQQDLXib",
        "colab_type": "code",
        "colab": {}
      },
      "source": [
        ""
      ],
      "execution_count": 0,
      "outputs": []
    }
  ]
}